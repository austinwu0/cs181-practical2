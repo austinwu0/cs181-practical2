{
 "cells": [
  {
   "cell_type": "code",
   "execution_count": 1,
   "metadata": {
    "collapsed": true
   },
   "outputs": [],
   "source": [
    "import os\n",
    "import util\n",
    "from scipy import sparse\n",
    "import numpy as np\n",
    "from collections import Counter\n",
    "import pandas as py\n",
    "from matplotlib import pyplot as plt\n",
    "\n",
    "try:\n",
    "    import xml.etree.cElementTree as ET\n",
    "except ImportError:\n",
    "    import xml.etree.ElementTree as ET\n"
   ]
  },
  {
   "cell_type": "code",
   "execution_count": 3,
   "metadata": {
    "collapsed": false
   },
   "outputs": [
    {
     "name": "stdout",
     "output_type": "stream",
     "text": [
      "processes\n",
      "process\n",
      "thread\n",
      "all_section\n",
      "load_image\n",
      "load_dll\n",
      "load_dll\n",
      "load_dll\n",
      "load_dll\n",
      "load_dll\n",
      "load_dll\n",
      "load_dll\n",
      "load_dll\n",
      "load_dll\n",
      "load_dll\n",
      "load_dll\n",
      "load_dll\n",
      "load_dll\n",
      "load_dll\n",
      "load_dll\n",
      "check_for_debugger\n",
      "load_dll\n",
      "get_system_directory\n",
      "open_key\n",
      "open_key\n",
      "query_value\n",
      "create_mutex\n",
      "create_mutex\n",
      "create_mutex\n",
      "create_mutex\n",
      "create_mutex\n",
      "open_key\n",
      "query_value\n",
      "query_value\n",
      "get_system_directory\n",
      "open_key\n",
      "query_value\n",
      "create_mutex\n",
      "set_windows_hook\n",
      "set_windows_hook\n",
      "create_window\n",
      "load_dll\n",
      "open_key\n",
      "load_dll\n",
      "open_key\n",
      "query_value\n",
      "load_dll\n",
      "get_system_directory\n",
      "load_dll\n",
      "get_system_directory\n",
      "load_dll\n",
      "load_dll\n",
      "get_system_directory\n",
      "create_window\n",
      "open_key\n",
      "query_value\n",
      "open_key\n",
      "query_value\n",
      "get_system_directory\n",
      "load_dll\n",
      "create_window\n",
      "show_window\n",
      "open_key\n",
      "set_windows_hook\n",
      "create_window\n",
      "open_key\n",
      "load_dll\n",
      "get_username\n",
      "load_dll\n",
      "get_system_directory\n",
      "create_file\n",
      "find_file\n",
      "create_directory\n",
      "find_file\n",
      "find_file\n",
      "find_file\n",
      "find_file\n",
      "open_key\n",
      "open_key\n",
      "read_value\n",
      "open_key\n",
      "open_key\n",
      "read_value\n",
      "get_file_attributes\n",
      "get_windows_directory\n",
      "get_file_attributes\n",
      "destroy_window\n",
      "enum_window\n",
      "destroy_window\n",
      "destroy_window\n",
      "enum_window\n",
      "sleep\n",
      "enum_window\n",
      "kill_process\n",
      "get_system_directory\n",
      "load_dll\n",
      "enum_window\n"
     ]
    }
   ],
   "source": [
    "tree = ET.parse('train/fc4abb4bd5fb57ceb5f7b07ec2b326571152e6166.VB.xml')\n",
    "for el in tree.iter() :\n",
    "    print el.tag"
   ]
  },
  {
   "cell_type": "code",
   "execution_count": null,
   "metadata": {
    "collapsed": true
   },
   "outputs": [],
   "source": []
  }
 ],
 "metadata": {
  "kernelspec": {
   "display_name": "Python 2",
   "language": "python",
   "name": "python2"
  },
  "language_info": {
   "codemirror_mode": {
    "name": "ipython",
    "version": 2
   },
   "file_extension": ".py",
   "mimetype": "text/x-python",
   "name": "python",
   "nbconvert_exporter": "python",
   "pygments_lexer": "ipython2",
   "version": "2.7.10"
  }
 },
 "nbformat": 4,
 "nbformat_minor": 0
}
