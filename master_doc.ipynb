{
 "cells": [
  {
   "cell_type": "code",
   "execution_count": 60,
   "metadata": {
    "collapsed": true
   },
   "outputs": [],
   "source": [
    "from matplotlib import pyplot as plt\n",
    "%matplotlib inline"
   ]
  },
  {
   "cell_type": "code",
   "execution_count": 61,
   "metadata": {
    "collapsed": false
   },
   "outputs": [],
   "source": [
    "# Extract features from XMLs\n",
    "# We added as many unique \"commands\" as we could find, as well as the number of \"commands\" and \"processes\"\n",
    "\n",
    "import os\n",
    "from collections import Counter\n",
    "try:\n",
    "    import xml.etree.cElementTree as ET\n",
    "except ImportError:\n",
    "    import xml.etree.ElementTree as ET\n",
    "import numpy as np\n",
    "from scipy import sparse\n",
    "\n",
    "import util\n",
    "\n",
    "TRAIN_DIR = \"train\"\n",
    "TEST_DIR = \"test\"\n",
    "\n",
    "call_set = set([])\n",
    "\n",
    "def add_to_set(tree):\n",
    "    for el in tree.iter():\n",
    "        call = el.tag\n",
    "        call_set.add(call)\n",
    "\n",
    "def create_data_matrix(start_index, end_index, direc):\n",
    "    X = None\n",
    "    classes = []\n",
    "    ids = [] \n",
    "    i = -1\n",
    "    for datafile in os.listdir(direc):\n",
    "        if datafile == '.DS_Store':\n",
    "            continue\n",
    "\n",
    "        i += 1\n",
    "        if i < start_index:\n",
    "            continue \n",
    "        if i >= end_index:\n",
    "            break\n",
    "        \n",
    "        # extract id and true class (if available) from filename\n",
    "        id_str, clazz = datafile.split('.')[:2]\n",
    "        ids.append(id_str)\n",
    "        # add target class if this is training data\n",
    "        try:\n",
    "            classes.append(util.malware_classes.index(clazz))\n",
    "\n",
    "        except ValueError:\n",
    "            # we should only fail to find the label in our list of malware classes\n",
    "            # if this is test data, which always has an \"X\" label\n",
    "            assert clazz == \"X\"\n",
    "            classes.append(-1)\n",
    "\n",
    "        # parse file as an xml document\n",
    "        tree = ET.parse(os.path.join(direc,datafile))\n",
    "        add_to_set(tree)\n",
    "        X_row = call_feats(tree)\n",
    "        _nProcesses = nProcesses(tree)\n",
    "        _nCommands = nCommands(tree)\n",
    "        this_row = np.hstack((X_row, _nProcesses, _nCommands))\n",
    "        if X is None:\n",
    "            X = this_row \n",
    "        else:\n",
    "            X = np.vstack((X, this_row))\n",
    "\n",
    "    return X, np.array(classes), ids\n",
    "\n",
    "def call_feats(tree):\n",
    "    calls = ['all_section', 'bind_socket', 'check_for_debugger',\n",
    "       'com_create_instance', 'com_get_class_object', 'connect',\n",
    "       'connect_socket', 'copy_file', 'create_directory', 'create_file',\n",
    "       'create_key', 'create_mutex', 'create_open_file', 'create_process',\n",
    "       'create_socket', 'create_thread', 'create_window', 'delete_file',\n",
    "       'delete_key', 'delete_value', 'destroy_window', 'dump_line',\n",
    "       'enum_keys', 'enum_processes', 'enum_values', 'enum_window',\n",
    "       'find_file', 'find_window', 'get_computer_name',\n",
    "       'get_file_attributes', 'get_host_by_name', 'get_system_directory',\n",
    "       'get_system_time', 'get_username', 'get_windows_directory',\n",
    "       'impersonate_user', 'kill_process', 'load_dll', 'load_image',\n",
    "       'open_file', 'open_key', 'open_mutex', 'open_process',\n",
    "       'open_scmanager', 'open_service', 'open_url', 'process',\n",
    "       'processes', 'query_value', 'read_section', 'read_value',\n",
    "       'recv_socket', 'remove_directory', 'send_socket',\n",
    "       'set_file_attributes', 'set_file_time', 'set_value',\n",
    "       'set_windows_hook', 'show_window', 'sleep', 'thread',\n",
    "       'trimmed_bytes', 'vm_protect', 'write_value']\n",
    "\n",
    "    call_counter = {}\n",
    "    for el in tree.iter():\n",
    "        call = el.tag\n",
    "        if call not in call_counter:\n",
    "            call_counter[call] = 0\n",
    "        else:\n",
    "            call_counter[call] += 1\n",
    "\n",
    "    call_feat_array = np.zeros(len(calls))\n",
    "    for i in range(len(calls)):\n",
    "        call = calls[i]\n",
    "        call_feat_array[i] = 0\n",
    "        if call in call_counter:\n",
    "            call_feat_array[i] = call_counter[call]\n",
    "\n",
    "    return call_feat_array\n",
    "\n",
    "def nProcesses(tree) :\n",
    "    root = tree.getroot()\n",
    "    process = []\n",
    "    for child in root :\n",
    "        if type(child) is not str :\n",
    "            if 'filename' in child.attrib.keys() :\n",
    "                process.append(child.attrib['filename'])\n",
    "        \n",
    "    return len(process)\n",
    "\n",
    "def nCommands(tree) :\n",
    "    commands = []\n",
    "    for el in tree.iter() :\n",
    "        commands.append(el.tag)\n",
    "        \n",
    "    return len(commands)"
   ]
  },
  {
   "cell_type": "code",
   "execution_count": 62,
   "metadata": {
    "collapsed": false
   },
   "outputs": [
    {
     "data": {
      "text/plain": [
       "'# Process the training data\\n\\n%%time\\nX_train, y_train, train_ids = create_data_matrix(0, 3086, TRAIN_DIR)\\nprint X_train.shape\\nprint y_train.shape'"
      ]
     },
     "execution_count": 62,
     "metadata": {},
     "output_type": "execute_result"
    }
   ],
   "source": [
    "'''# Process the training data\n",
    "\n",
    "%%time\n",
    "X_train, y_train, train_ids = create_data_matrix(0, 3086, TRAIN_DIR)\n",
    "print X_train.shape\n",
    "print y_train.shape'''"
   ]
  },
  {
   "cell_type": "code",
   "execution_count": 63,
   "metadata": {
    "collapsed": false
   },
   "outputs": [
    {
     "data": {
      "text/plain": [
       "'# Process the test data\\n\\n%%time\\nX_test, y_test, test_ids = create_data_matrix(0, 3724, TEST_DIR)\\nprint X_test.shape\\nprint y_test.shape'"
      ]
     },
     "execution_count": 63,
     "metadata": {},
     "output_type": "execute_result"
    }
   ],
   "source": [
    "'''# Process the test data\n",
    "\n",
    "%%time\n",
    "X_test, y_test, test_ids = create_data_matrix(0, 3724, TEST_DIR)\n",
    "print X_test.shape\n",
    "print y_test.shape'''"
   ]
  },
  {
   "cell_type": "code",
   "execution_count": 64,
   "metadata": {
    "collapsed": false
   },
   "outputs": [
    {
     "data": {
      "text/plain": [
       "\"# Export just in case the kernel crashes\\n\\nnp.save('save/X_train',X_train)\\nnp.save('save/X_test',X_test)\\nnp.save('save/y_train',y_train)\\nnp.save('save/y_test',y_test)\\nnp.save('save/train_ids',train_ids)\\nnp.save('save/test_ids',test_ids)\""
      ]
     },
     "execution_count": 64,
     "metadata": {},
     "output_type": "execute_result"
    }
   ],
   "source": [
    "'''# Export just in case the kernel crashes\n",
    "\n",
    "np.save('save/X_train',X_train)\n",
    "np.save('save/X_test',X_test)\n",
    "np.save('save/y_train',y_train)\n",
    "np.save('save/y_test',y_test)\n",
    "np.save('save/train_ids',train_ids)\n",
    "np.save('save/test_ids',test_ids)'''"
   ]
  },
  {
   "cell_type": "code",
   "execution_count": 122,
   "metadata": {
    "collapsed": false
   },
   "outputs": [],
   "source": [
    "# Re-import the saved train/test files\n",
    "\n",
    "X_train = np.load('save/X_train.npy')\n",
    "X_test = np.load('save/X_test.npy')\n",
    "y_train = np.load('save/y_train.npy')\n",
    "y_test = np.load('save/y_test.npy')\n",
    "train_ids = np.load('save/train_ids.npy')\n",
    "test_ids = np.load('save/test_ids.npy')"
   ]
  },
  {
   "cell_type": "code",
   "execution_count": 124,
   "metadata": {
    "collapsed": false
   },
   "outputs": [],
   "source": [
    "import sys\n",
    "import random\n",
    "\n",
    "# Add some jitter to an array to prevent overlapping\n",
    "def rand_jitter(arr):\n",
    "    stdev = .01*(max(arr)-min(arr))\n",
    "    return arr + np.random.randn(len(arr)) * stdev\n",
    "\n",
    "# Plot accuracy scores so we can visualize errors\n",
    "def accuracy_score(arr1, arr2, display=True) :\n",
    "    arr1 = np.array(arr1)\n",
    "    arr2 = np.array(arr2)\n",
    "    \n",
    "    if arr1.shape == arr2.shape :\n",
    "        if display == True:\n",
    "            print 'Accuracy: ' + str(len(np.where(arr1 == arr2)[0])/float(arr1.shape[0]))\n",
    "    \n",
    "    plt.scatter(rand_jitter(arr1), rand_jitter(arr2), alpha=0.1);\n",
    "    plt.xlabel('Predictions');\n",
    "    plt.ylabel('True classification');"
   ]
  },
  {
   "cell_type": "code",
   "execution_count": 67,
   "metadata": {
    "collapsed": true
   },
   "outputs": [],
   "source": [
    "# Because the values of each column are so severely right skewed, we tried to normalize the columns a bit ...\n",
    "\n",
    "def normalize1(array) :\n",
    "    useArray = array[0:63]\n",
    "    otherCols = array[64:66]\n",
    "    rowsum = np.sum(useArray)\n",
    "    newrow = np.append(np.array([el/float(rowsum) for el in useArray]), otherCols)\n",
    "    return np.append(newrow, rowsum)"
   ]
  },
  {
   "cell_type": "code",
   "execution_count": 68,
   "metadata": {
    "collapsed": false
   },
   "outputs": [
    {
     "data": {
      "image/png": "[encoded data removed]",
      "text/plain": [
       "<matplotlib.figure.Figure at 0x10586cc50>"
      ]
     },
     "metadata": {},
     "output_type": "display_data"
    }
   ],
   "source": [
    "# Visualize different effects ...\n",
    "mat_viz = np.apply_along_axis(normalize1, 1, X_train)\n",
    "\n",
    "random_num = random.randint(0, 63)\n",
    "plt.hist(mat_viz[:,random_num]);\n",
    "plt.title('distribution of feature ' + str(random_num));"
   ]
  },
  {
   "cell_type": "code",
   "execution_count": 69,
   "metadata": {
    "collapsed": false
   },
   "outputs": [
    {
     "name": "stdout",
     "output_type": "stream",
     "text": [
      "Baseline (predicting all as 'none')\n",
      "Accuracy: 0.52138690862\n",
      "None\n"
     ]
    },
    {
     "data": {
      "image/png": "[encoded data removed]",
      "text/plain": [
       "<matplotlib.figure.Figure at 0x10bb67650>"
      ]
     },
     "metadata": {},
     "output_type": "display_data"
    }
   ],
   "source": [
    "# Check the accuracy of the baseline (predicting all 8)\n",
    "\n",
    "baseline = [8] * y_train.shape[0]\n",
    "print \"Baseline (predicting all as 'none')\"\n",
    "print accuracy_score(baseline, y_train, display=True)"
   ]
  },
  {
   "cell_type": "code",
   "execution_count": 120,
   "metadata": {
    "collapsed": false
   },
   "outputs": [],
   "source": [
    "from sklearn import linear_model\n",
    "from sklearn.feature_selection import SelectKBest, f_regression\n",
    "from sklearn.cross_validation import cross_val_score, KFold\n",
    "from sklearn import cross_validation as cv\n",
    "from sklearn.linear_model import LinearRegression\n",
    "from sklearn.ensemble import RandomForestClassifier\n",
    "from sklearn import neighbors\n",
    "from sklearn.ensemble import ExtraTreesClassifier\n",
    "from sklearn import datasets\n",
    "from sklearn.naive_bayes import GaussianNB"
   ]
  },
  {
   "cell_type": "code",
   "execution_count": 125,
   "metadata": {
    "collapsed": false
   },
   "outputs": [
    {
     "name": "stdout",
     "output_type": "stream",
     "text": [
      "Logistic Regression average accuracy: 0.738494542441\n",
      "\n",
      "Sample Logistic Regression:\n"
     ]
    },
    {
     "data": {
      "image/png": "[encoded data removed]",
      "text/plain": [
       "<matplotlib.figure.Figure at 0x10b5b2390>"
      ]
     },
     "metadata": {},
     "output_type": "display_data"
    }
   ],
   "source": [
    "scores = []\n",
    "LR = linear_model.LogisticRegression()\n",
    "\n",
    "for train, test in KFold(len(y_train), n_folds=5):\n",
    "    xtrain, xtest, ytrain, ytest = X_train[train], X_train[test], y_train[train], y_train[test]\n",
    "    \n",
    "    b = SelectKBest()\n",
    "    b.fit(xtrain, ytrain)\n",
    "    xtrain = xtrain[:, b.get_support()]\n",
    "    xtest = xtest[:, b.get_support()]\n",
    "\n",
    "    LR.fit(xtrain, ytrain)\n",
    "    scores.append(LR.score(xtest, ytest))\n",
    "\n",
    "print \"Logistic Regression average accuracy:\", np.mean(scores)\n",
    "\n",
    "print \"\\nSample Logistic Regression:\"\n",
    "lrpred = LR.predict(xtest)\n",
    "accuracy_score(lrpred, ytest, display=False)"
   ]
  },
  {
   "cell_type": "markdown",
   "metadata": {},
   "source": [
    "Based on the rather low accuracy and the above plot, it seems like the logistic prediction overpredicts the \"none\" category and isn't very good at detecting other viruses. We believe that we need a more sophisticated approach."
   ]
  },
  {
   "cell_type": "code",
   "execution_count": 132,
   "metadata": {
    "collapsed": false
   },
   "outputs": [
    {
     "name": "stdout",
     "output_type": "stream",
     "text": [
      "K (15) Nearest Neighbors average accuracy: 0.85871557227\n",
      "\n",
      "Sample KNN:\n"
     ]
    },
    {
     "data": {
      "image/png": "[encoded data removed]",
      "text/plain": [
       "<matplotlib.figure.Figure at 0x109ae6f50>"
      ]
     },
     "metadata": {},
     "output_type": "display_data"
    }
   ],
   "source": [
    "scores = []\n",
    "n_neighbors = 15\n",
    "clf = neighbors.KNeighborsClassifier(n_neighbors, weights='distance')\n",
    "\n",
    "for train, test in KFold(len(y_train), n_folds=5):\n",
    "    xtrain, xtest, ytrain, ytest = X_train[train], X_train[test], y_train[train], y_train[test]\n",
    "    \n",
    "    b = SelectKBest()\n",
    "    b.fit(xtrain, ytrain)\n",
    "    xtrain = xtrain[:, b.get_support()]\n",
    "    xtest = xtest[:, b.get_support()]\n",
    "\n",
    "    clf.fit(xtrain, ytrain)\n",
    "    scores.append(clf.score(xtest, ytest))\n",
    "\n",
    "print \"K (15) Nearest Neighbors average accuracy:\", np.mean(scores)\n",
    "\n",
    "print \"\\nSample KNN:\"\n",
    "knnpred = clf.predict(xtest)\n",
    "accuracy_score(knnpred, ytest, display=False)"
   ]
  },
  {
   "cell_type": "markdown",
   "metadata": {},
   "source": [
    "Much better at predicting other classes now! Still over-predicting class 8 though."
   ]
  },
  {
   "cell_type": "code",
   "execution_count": 73,
   "metadata": {
    "collapsed": false
   },
   "outputs": [
    {
     "name": "stdout",
     "output_type": "stream",
     "text": [
      "RF average accuracy: 0.871354240426\n",
      "\n",
      "Sample RF:\n"
     ]
    },
    {
     "data": {
      "image/png": "[encoded data removed]",
      "text/plain": [
       "<matplotlib.figure.Figure at 0x10891ce10>"
      ]
     },
     "metadata": {},
     "output_type": "display_data"
    }
   ],
   "source": [
    "RF = RandomForestClassifier(n_estimators=50)\n",
    "scores = []\n",
    "\n",
    "for train, test in KFold(len(y_train), n_folds=5):\n",
    "    xtrain, xtest, ytrain, ytest = X_train[train], X_train[test], y_train[train], y_train[test]\n",
    "    \n",
    "    b = SelectKBest()\n",
    "    b.fit(xtrain, ytrain)\n",
    "    xtrain = xtrain[:, b.get_support()]\n",
    "    xtest = xtest[:, b.get_support()]\n",
    "\n",
    "    RF.fit(xtrain, ytrain)\n",
    "    scores.append(RF.score(xtest, ytest))\n",
    "\n",
    "print \"RF average accuracy:\", np.mean(scores)\n",
    "\n",
    "print \"\\nSample RF:\"\n",
    "rfpred = RF.predict(xtest)\n",
    "accuracy_score(rfpred, ytest, display=False)"
   ]
  },
  {
   "cell_type": "markdown",
   "metadata": {},
   "source": [
    "Overall slightly better, but now seems to overpredict 0 and 8 even more than before (although correcting for other categories)."
   ]
  },
  {
   "cell_type": "code",
   "execution_count": 74,
   "metadata": {
    "collapsed": false
   },
   "outputs": [
    {
     "name": "stdout",
     "output_type": "stream",
     "text": [
      "Extra Trees Classifier average accuracy: 0.873295463486\n",
      "\n",
      "Sample ETC:\n"
     ]
    },
    {
     "data": {
      "image/png": "[encoded data removed]",
      "text/plain": [
       "<matplotlib.figure.Figure at 0x10dccf150>"
      ]
     },
     "metadata": {},
     "output_type": "display_data"
    }
   ],
   "source": [
    "ETC = ExtraTreesClassifier(n_estimators=50)\n",
    "scores = []\n",
    "\n",
    "for train, test in KFold(len(y_train), n_folds=5):\n",
    "    xtrain, xtest, ytrain, ytest = X_train[train], X_train[test], y_train[train], y_train[test]\n",
    "    \n",
    "    b = SelectKBest()\n",
    "    b.fit(xtrain, ytrain)\n",
    "    xtrain = xtrain[:, b.get_support()]\n",
    "    xtest = xtest[:, b.get_support()]\n",
    "\n",
    "    ETC.fit(xtrain, ytrain)\n",
    "    scores.append(ETC.score(xtest, ytest))\n",
    "\n",
    "print \"Extra Trees Classifier average accuracy:\", np.mean(scores)\n",
    "\n",
    "print \"\\nSample ETC:\"\n",
    "etcpred = ETC.predict(xtest)\n",
    "accuracy_score(etcpred, ytest, display=False)"
   ]
  },
  {
   "cell_type": "markdown",
   "metadata": {},
   "source": [
    "Almost indistinguishable from regular Random Forest."
   ]
  },
  {
   "cell_type": "code",
   "execution_count": 75,
   "metadata": {
    "collapsed": false
   },
   "outputs": [
    {
     "name": "stdout",
     "output_type": "stream",
     "text": [
      "Gaussian Naive Bayes average accuracy: 0.119892160102\n",
      "\n",
      "Sample GNB:\n"
     ]
    },
    {
     "data": {
      "image/png": "[encoded data removed]",
      "text/plain": [
       "<matplotlib.figure.Figure at 0x10dcf3dd0>"
      ]
     },
     "metadata": {},
     "output_type": "display_data"
    }
   ],
   "source": [
    "gnb = GaussianNB()\n",
    "scores = []\n",
    "\n",
    "for train, test in KFold(len(y_train), n_folds=5):\n",
    "    xtrain, xtest, ytrain, ytest = X_train[train], X_train[test], y_train[train], y_train[test]\n",
    "    \n",
    "    b = SelectKBest()\n",
    "    b.fit(xtrain, ytrain)\n",
    "    xtrain = xtrain[:, b.get_support()]\n",
    "    xtest = xtest[:, b.get_support()]\n",
    "\n",
    "    gnb.fit(xtrain, ytrain)\n",
    "    scores.append(gnb.score(xtest, ytest))\n",
    "\n",
    "print \"Gaussian Naive Bayes average accuracy:\", np.mean(scores)\n",
    "\n",
    "print \"\\nSample GNB:\"\n",
    "gnb1pred = gnb.predict(xtest)\n",
    "accuracy_score(gnb1pred, ytest, display=False)"
   ]
  },
  {
   "cell_type": "markdown",
   "metadata": {},
   "source": [
    "This model is really bad. We believe that it doesn't work well because the distribution of each column of X is not actually distribution Gaussian. Perhaps it would work better if we normalized the distribution of each column of X. For some reason it also looks like everything that was supposed to be predicted 8 was actually predicted 9? Really strange. We don't know why that happened."
   ]
  },
  {
   "cell_type": "code",
   "execution_count": 76,
   "metadata": {
    "collapsed": false
   },
   "outputs": [
    {
     "name": "stdout",
     "output_type": "stream",
     "text": [
      "Gaussian Naive Bayes average accuracy: 0.339207880285\n",
      "\n",
      "Sample GNB2:\n"
     ]
    },
    {
     "data": {
      "image/png": "[encoded data removed]",
      "text/plain": [
       "<matplotlib.figure.Figure at 0x10bee7a90>"
      ]
     },
     "metadata": {},
     "output_type": "display_data"
    }
   ],
   "source": [
    "X_new = np.apply_along_axis(normalize1, 1, X_train)\n",
    "\n",
    "gnb2 = GaussianNB()\n",
    "scores = []\n",
    "\n",
    "for train, test in KFold(len(y_train), n_folds=5):\n",
    "    xtrain, xtest, ytrain, ytest = X_new[train], X_new[test], y_train[train], y_train[test]\n",
    "    \n",
    "    b = SelectKBest()\n",
    "    b.fit(xtrain, ytrain)\n",
    "    xtrain = xtrain[:, b.get_support()]\n",
    "    xtest = xtest[:, b.get_support()]\n",
    "\n",
    "    gnb2.fit(xtrain, ytrain)\n",
    "    scores.append(gnb2.score(xtest, ytest))\n",
    "\n",
    "print \"Gaussian Naive Bayes average accuracy:\", np.mean(scores)\n",
    "\n",
    "print \"\\nSample GNB2:\"\n",
    "gnb2pred = gnb2.predict(xtest)\n",
    "accuracy_score(gnb2pred, ytest, display=False)"
   ]
  },
  {
   "cell_type": "markdown",
   "metadata": {},
   "source": [
    "A quick attempt to normalize our results is unsuccessful. "
   ]
  },
  {
   "cell_type": "code",
   "execution_count": 95,
   "metadata": {
    "collapsed": false
   },
   "outputs": [
    {
     "name": "stdout",
     "output_type": "stream",
     "text": [
      "Accuracy: 0.719332679097\n"
     ]
    },
    {
     "data": {
      "image/png": "[encoded data removed]",
      "text/plain": [
       "<matplotlib.figure.Figure at 0x10bb499d0>"
      ]
     },
     "metadata": {},
     "output_type": "display_data"
    }
   ],
   "source": [
    "def getIndicator(data) :\n",
    "    nFeatures = data.shape[1]\n",
    "    newdata = np.matrix((data[:,0] == 0).astype(int)).T\n",
    "    for i in range(1, nFeatures) :\n",
    "        newcol = (data[:,i] == 0).astype(int)\n",
    "        newdata = np.append(newdata, np.matrix(newcol).T, axis=1)\n",
    "    return newdata\n",
    "\n",
    "X_only_ind = getIndicator(X_train)\n",
    "X_ind_train, X_ind_test, y_ind_train, y_ind_test = cv.train_test_split(X_only_ind, y_train, test_size = 0.33, random_state=32)\n",
    "\n",
    "from sklearn.naive_bayes import BernoulliNB\n",
    "\n",
    "bnb = BernoulliNB()\n",
    "bnb.fit(X_ind_train, y_ind_train)\n",
    "y_pred=bnb.predict(X_ind_test)\n",
    "accuracy_score(y_pred,y_ind_test)"
   ]
  },
  {
   "cell_type": "markdown",
   "metadata": {},
   "source": [
    "If we convert our X matrix to indicator variables only, then we can also try naive bayes with a binomial distribution. It performs much better than the Gaussian assumption, but not very promising."
   ]
  },
  {
   "cell_type": "code",
   "execution_count": 77,
   "metadata": {
    "collapsed": false
   },
   "outputs": [],
   "source": [
    "from collections import defaultdict\n",
    "import scipy.stats as dist\n",
    "import math\n",
    "\n",
    "def separateByClass(xdata, ydata) :\n",
    "    separated = defaultdict()\n",
    "    uniqueClasses = np.unique(ydata)\n",
    "    for i in uniqueClasses :\n",
    "        separated[i] = xdata[ydata == i,:]\n",
    "    return separated\n",
    "\n",
    "def summarize(matrix) :\n",
    "    return [(np.mean(attribute), np.std(attribute)) for attribute in zip(*matrix)]\n",
    "    \n",
    "def summarizeByClass(xdata, ydata) :\n",
    "    separated = separateByClass(xdata, ydata)\n",
    "    summaries = defaultdict()\n",
    "    for i in separated.keys() :\n",
    "        summaries[i] = summarize(separated[i])\n",
    "    return summaries\n",
    "\n",
    "def calculateProbability(kernel, x, mean, std) :\n",
    "    if mean == 0 and kernel == 'poisson':\n",
    "        mean += 0.01\n",
    "        \n",
    "    if std == 0 and kernel == 'normal':\n",
    "        std += 1\n",
    "\n",
    "    if kernel == 'poisson' :\n",
    "        return dist.poisson.pmf(x, mean)\n",
    "    elif kernel == 'normal' :\n",
    "        return dist.norm.pdf(x, mean, std)\n",
    "    elif kernel == 'expo' :\n",
    "        return dist.expon.pdf(x)\n",
    "    \n",
    "def calculateClassProbability(kernel, summaries, inputVector) :\n",
    "    probabilities = defaultdict()\n",
    "    for classValue, classSummaries in summaries.iteritems() :\n",
    "        probabilities[classValue] = 1\n",
    "        for i in range(len(classSummaries)) :\n",
    "            mean, std = classSummaries[i]\n",
    "            x = inputVector[i]\n",
    "            probabilities[classValue] *= calculateProbability(kernel, x, mean, std)\n",
    "    \n",
    "    '''sumProb = np.sum(probabilities.values())\n",
    "    for key, value in probabilities.items():\n",
    "        probabilities[key] = value / float(sumProb)'''\n",
    "    \n",
    "    return probabilities\n",
    "\n",
    "def predict(kernel, summaries, inputVector) :\n",
    "    probabilities = calculateClassProbability(kernel, summaries, inputVector)\n",
    "    bestLabel, bestProb = None, -1\n",
    "    for classValue, probability in probabilities.iteritems() :\n",
    "        if bestLabel is None or probability > bestProb :\n",
    "            bestProb = probability\n",
    "            bestLabel = classValue\n",
    "    return bestLabel\n",
    "\n",
    "def getPredictions(kernel, xtrain, ytrain, xtest) :\n",
    "    summaries = summarizeByClass(xtrain, ytrain)\n",
    "    \n",
    "    predictions = []\n",
    "    for i in range(xtest.shape[0]) :\n",
    "        result = predict(kernel, summaries, xtest[i,:])\n",
    "        predictions.append(result)\n",
    "    return predictions"
   ]
  },
  {
   "cell_type": "code",
   "execution_count": 80,
   "metadata": {
    "collapsed": false
   },
   "outputs": [
    {
     "name": "stdout",
     "output_type": "stream",
     "text": [
      "Accuracy: 0.223748773307\n",
      "CPU times: user 1min 39s, sys: 439 ms, total: 1min 39s\n",
      "Wall time: 1min 39s\n"
     ]
    },
    {
     "data": {
      "image/png": "[encoded data removed]",
      "text/plain": [
       "<matplotlib.figure.Figure at 0x10bedad50>"
      ]
     },
     "metadata": {},
     "output_type": "display_data"
    }
   ],
   "source": [
    "%%time\n",
    "X_train_split, X_test_split, y_train_split, y_test_split = cv.train_test_split(X_train, y_train, test_size = 0.33, random_state=32)\n",
    "\n",
    "gen1pred = getPredictions('normal', X_train_split, y_train_split, X_test_split)\n",
    "accuracy_score(gen1pred, y_test_split)"
   ]
  },
  {
   "cell_type": "code",
   "execution_count": 82,
   "metadata": {
    "collapsed": false
   },
   "outputs": [
    {
     "name": "stdout",
     "output_type": "stream",
     "text": [
      "Accuracy: 0.765456329735\n",
      "CPU times: user 1min 36s, sys: 318 ms, total: 1min 37s\n",
      "Wall time: 1min 37s\n"
     ]
    },
    {
     "data": {
      "image/png": "[encoded data removed]",
      "text/plain": [
       "<matplotlib.figure.Figure at 0x10f3f5f50>"
      ]
     },
     "metadata": {},
     "output_type": "display_data"
    }
   ],
   "source": [
    "%%time\n",
    "X_norm = np.apply_along_axis(normalize1, 1, X_train)\n",
    "X_norm_train, X_norm_test, y_norm_train, y_norm_test = cv.train_test_split(X_norm, y_train, test_size = 0.33, random_state=32)\n",
    "\n",
    "gen2pred = getPredictions('normal', X_norm_train, y_norm_train, X_norm_test)\n",
    "accuracy_score(gen2pred, y_test_split)"
   ]
  },
  {
   "cell_type": "markdown",
   "metadata": {},
   "source": [
    "At first, the generative model doesn't seem to do much better (since the columns are still not distributed Gaussian). After we \"normalize\" the columns a bit, we actually have a decent prediction, but it vastly overpredicts 12 for some reason (as well as missing a lot of 8s, which has never happened before)."
   ]
  },
  {
   "cell_type": "code",
   "execution_count": 85,
   "metadata": {
    "collapsed": true
   },
   "outputs": [],
   "source": [
    "X_train_split, X_test_split, y_train_split, y_test_split = cv.train_test_split(X_train, y_train, test_size = 0.33, random_state=32)"
   ]
  },
  {
   "cell_type": "code",
   "execution_count": 90,
   "metadata": {
    "collapsed": true
   },
   "outputs": [],
   "source": [
    "def get_score(arr1, arr2) :\n",
    "    arr1 = np.array(arr1)\n",
    "    arr2 = np.array(arr2)\n",
    "    \n",
    "    if arr1.shape == arr2.shape :\n",
    "        return len(np.where(arr1 == arr2)[0])/float(arr1.shape[0])"
   ]
  },
  {
   "cell_type": "code",
   "execution_count": 93,
   "metadata": {
    "collapsed": false
   },
   "outputs": [
    {
     "name": "stdout",
     "output_type": "stream",
     "text": [
      "(0.8773307163886163, 14)\n",
      "Accuracy: 0.878312070658\n"
     ]
    },
    {
     "data": {
      "image/png": "[encoded data removed]",
      "text/plain": [
       "<matplotlib.figure.Figure at 0x10dcd9610>"
      ]
     },
     "metadata": {},
     "output_type": "display_data"
    }
   ],
   "source": [
    "from sklearn.ensemble import ExtraTreesClassifier\n",
    "\n",
    "#test optimal maximun depth\n",
    "max_xtr_score=0\n",
    "opt_max_depth=0\n",
    "for i in range(5,20):\n",
    "    xtr=ExtraTreesClassifier(n_estimators=50,max_depth=i)\n",
    "    xtr=xtr.fit(X_train_split,y_train_split)\n",
    "    y_ind_pred=xtr.predict(X_test_split)\n",
    "    if get_score(y_ind_pred, y_test_split)>max_xtr_score:\n",
    "            max_xtr_score=get_score(y_ind_pred, y_test_split)\n",
    "            opt_xtr_depth=i\n",
    "print(max_xtr_score,opt_xtr_depth)\n",
    "\n",
    "clf = ExtraTreesClassifier(n_estimators=50,max_depth=opt_xtr_depth)\n",
    "clf = clf.fit(X_train_split, y_train_split)\n",
    "y_pred = clf.predict(X_test_split)\n",
    "accuracy_score(y_pred, y_test_split)"
   ]
  },
  {
   "cell_type": "markdown",
   "metadata": {},
   "source": [
    "Looks like we were able to bump up our ETC score a bit, although we're still over predicting 8 pretty heavily."
   ]
  },
  {
   "cell_type": "code",
   "execution_count": 94,
   "metadata": {
    "collapsed": false
   },
   "outputs": [
    {
     "name": "stdout",
     "output_type": "stream",
     "text": [
      "Accuracy: 0.862610402355\n"
     ]
    },
    {
     "data": {
      "image/png": "[encoded data removed]",
      "text/plain": [
       "<matplotlib.figure.Figure at 0x10dd31050>"
      ]
     },
     "metadata": {},
     "output_type": "display_data"
    }
   ],
   "source": [
    "from sklearn.ensemble import GradientBoostingClassifier\n",
    "\n",
    "gbc=GradientBoostingClassifier(n_estimators=50)\n",
    "gbc=gbc.fit(X_train_split,y_train_split)\n",
    "y_pred=gbc.predict(X_test_split)\n",
    "accuracy_score(y_pred,y_test_split)"
   ]
  },
  {
   "cell_type": "markdown",
   "metadata": {},
   "source": [
    "Gradient boosting doesn't help too much - we gain accuracy in predicting 8 at the cost of incorrectly predicting 0 and 12."
   ]
  },
  {
   "cell_type": "markdown",
   "metadata": {
    "collapsed": true
   },
   "source": [
    "# Going in a different direction ..."
   ]
  },
  {
   "cell_type": "markdown",
   "metadata": {},
   "source": [
    "Since none of our models were doing particularly well in the Kaggle competition, we wanted to try going in a new direction - looking at that the XML files themselves and trying to find patterns. There was some success here - we realized rapidly that we were able to rapidly visually identify viruses (their logs looked nearly identical sometimes!) by their processes or commands.\n",
    "\n",
    "What if, therefore, we might be able to calculate the similarity of these logged process vectors? If two viruses had nearly identical logged process vectors, we might be able to assume that they are the same virus! Therefore we can compare the testing dataset with the training dataset, for which we have correct labels. The algorithm below tries to accomplish this by calculating the longest identical subvector between two vectors; the greater the ratio max$\\left(\\frac{len(subvec_{ij})}{len(vec_i)}\\right)$, the more likely that these vectors are of the same class. "
   ]
  },
  {
   "cell_type": "code",
   "execution_count": 108,
   "metadata": {
    "collapsed": false
   },
   "outputs": [],
   "source": [
    "import os\n",
    "import util\n",
    "from scipy import sparse\n",
    "import numpy as np\n",
    "from collections import Counter\n",
    "import pandas as pd\n",
    "import random\n",
    "from matplotlib import pyplot as plt\n",
    "from sklearn import cross_validation as cv\n",
    "\n",
    "try:\n",
    "    import xml.etree.cElementTree as ET\n",
    "except ImportError:\n",
    "    import xml.etree.ElementTree as ET\n",
    "\n",
    "def check_all(start_index, end_index, direc):\n",
    "    classes = []\n",
    "    ids = [] \n",
    "    processes = []\n",
    "    i = -1\n",
    "    for datafile in os.listdir(direc):\n",
    "        if datafile == '.DS_Store':\n",
    "            continue\n",
    "\n",
    "        i += 1\n",
    "        if i < start_index:\n",
    "            continue \n",
    "        if i >= end_index:\n",
    "            break\n",
    "        \n",
    "        # extract id and true class (if available) from filename\n",
    "        id_str, clazz = datafile.split('.')[:2]\n",
    "        ids.append(id_str)\n",
    "        # add target class if this is training data\n",
    "        try:\n",
    "            classes.append(util.malware_classes.index(clazz))\n",
    "\n",
    "        except ValueError:\n",
    "            # we should only fail to find the label in our list of malware classes\n",
    "            # if this is test data, which always has an \"X\" label\n",
    "            assert clazz == \"X\"\n",
    "            classes.append(-1)\n",
    "\n",
    "        tree = ET.parse(os.path.join(direc,datafile))\n",
    "        root = tree.getroot()\n",
    "        \n",
    "        processList = []\n",
    "        for child in root :\n",
    "            if type(child) is not str :\n",
    "                if 'filename' in child.attrib.keys() :\n",
    "                    processList.append(child.attrib['filename'])\n",
    "        processes.append(processList)\n",
    "        \n",
    "        '''processList = []\n",
    "        for el in tree.iter() :\n",
    "            processList.append(el.tag)\n",
    "        processes.append(processList)'''\n",
    "\n",
    "    return np.array(classes), ids, processes"
   ]
  },
  {
   "cell_type": "code",
   "execution_count": 109,
   "metadata": {
    "collapsed": false
   },
   "outputs": [],
   "source": [
    "y, ids, processes = check_all(0, 3086, 'train')\n",
    "train_proc, test_proc, y_train, y_test = cv.train_test_split(processes, y, test_size = 0.33, random_state=32)\n",
    "train_lengths = [len(proc) for proc in train_proc]\n",
    "\n",
    "df = pd.DataFrame()\n",
    "df['class'] = y_train\n",
    "df['lengths'] = train_lengths"
   ]
  },
  {
   "cell_type": "code",
   "execution_count": 110,
   "metadata": {
    "collapsed": false
   },
   "outputs": [],
   "source": [
    "def contains_sublist(lst, sublst):\n",
    "    n = len(sublst)\n",
    "    return any([(sublst == lst[i:i+n]) for i in xrange(len(lst)-n+1)])\n",
    "\n",
    "def substring(n,m,minLength=5) :\n",
    "    start = 0\n",
    "    while start < len(n) - 5 :\n",
    "        exists = contains_sublist(m, n[start:start+minLength])\n",
    "        while exists == True and (start + minLength) < len(n):\n",
    "            exists = contains_sublist(m, n[start:start+minLength])\n",
    "            if exists == True :\n",
    "                minLength += 1\n",
    "        start += 1\n",
    "    return (minLength - 1)/float(len(n))\n",
    "\n",
    "def most_common(lst):\n",
    "    return max(set(lst), key=lst.count)\n",
    "\n",
    "def capMask(old_vector, limit) :\n",
    "    vector = old_vector[:]\n",
    "    if np.sum(vector) > limit :\n",
    "        falseMask = random.sample(np.where(np.array(vector) == True)[0].tolist(), (np.sum(vector) - limit))\n",
    "        for sample in falseMask :\n",
    "            vector[sample] = False\n",
    "        return vector\n",
    "    else :\n",
    "        return vector\n",
    "\n",
    "def bestMatch(unknown, allProcesses, lengths, y, df, minLength, error) :\n",
    "    u_length = len(unknown)\n",
    "    mask = [True if (length-error) <= u_length <= (length+error) else False for length in lengths]\n",
    "    \n",
    "    if np.sum(mask) == 1 :\n",
    "        return [el[1] for el in zip(mask,y) if el[0] == True][0]\n",
    "    elif u_length < 1500 :\n",
    "        new_mask = capMask(mask, 20)\n",
    "        dftouse = df[new_mask]\n",
    "        processtouse = [el[1] for el in zip(new_mask,allProcesses) if el[0] == True]\n",
    "\n",
    "        withScores = dftouse.copy()\n",
    "        withScores['scores'] = [substring(unknown, process) for process in processtouse]\n",
    "        topClasses = withScores[withScores.scores > 0.75].sort(['scores'], ascending=False)['class'].tolist()\n",
    "        if len(topClasses) > 0 :\n",
    "            return most_common(topClasses)\n",
    "        else :\n",
    "            return -1\n",
    "    else :\n",
    "        return -1"
   ]
  },
  {
   "cell_type": "code",
   "execution_count": 117,
   "metadata": {
    "collapsed": false,
    "scrolled": true
   },
   "outputs": [
    {
     "name": "stdout",
     "output_type": "stream",
     "text": [
      "0\n",
      "100\n",
      "200\n",
      "300\n",
      "400\n",
      "500\n",
      "600\n",
      "700\n",
      "800\n",
      "900\n",
      "1000\n"
     ]
    }
   ],
   "source": [
    "train_pred = []\n",
    "    \n",
    "start = len(train_pred)\n",
    "for i in range(start,len(test_proc)) :\n",
    "    if i%100==0 :\n",
    "        print i\n",
    "    train_pred.append(bestMatch(test_proc[i], train_proc, train_lengths, y_train, df, minLength=5, error=0))\n",
    "    np.save('train_pred.npy',np.array(train_pred))"
   ]
  },
  {
   "cell_type": "code",
   "execution_count": 112,
   "metadata": {
    "collapsed": true
   },
   "outputs": [],
   "source": [
    "def rand_jitter(arr):\n",
    "    stdev = .01*(max(arr)-min(arr))\n",
    "    return arr + np.random.randn(len(arr)) * stdev\n",
    "\n",
    "def accuracy_score(arr1, arr2) :\n",
    "    arr1 = np.array(arr1)\n",
    "    arr2 = np.array(arr2)\n",
    "    \n",
    "    if arr1.shape == arr2.shape :\n",
    "        print 'Accuracy: ' + str(len(np.where(arr1 == arr2)[0])/float(arr1.shape[0]))\n",
    "    \n",
    "    plt.scatter(rand_jitter(arr1), rand_jitter(arr2), alpha=0.1);\n",
    "    plt.xlabel('Predictions');\n",
    "    plt.ylabel('True classification');"
   ]
  },
  {
   "cell_type": "code",
   "execution_count": 118,
   "metadata": {
    "collapsed": false
   },
   "outputs": [
    {
     "name": "stdout",
     "output_type": "stream",
     "text": [
      "Accuracy: 0.551521099117\n"
     ]
    },
    {
     "data": {
      "image/png": "[encoded data removed]",
      "text/plain": [
       "<matplotlib.figure.Figure at 0x1097c6350>"
      ]
     },
     "metadata": {},
     "output_type": "display_data"
    }
   ],
   "source": [
    "%matplotlib inline\n",
    "train_pred = np.load('train_pred.npy')\n",
    "y_pred = [int(el) if el != -1 else 8 for el in train_pred.tolist()]\n",
    "n = len(y_pred)\n",
    "accuracy_score(np.array(y_pred),y_test[0:n])"
   ]
  },
  {
   "cell_type": "markdown",
   "metadata": {
    "collapsed": true
   },
   "source": [
    "# Looking for more features ..."
   ]
  },
  {
   "cell_type": "code",
   "execution_count": 133,
   "metadata": {
    "collapsed": true
   },
   "outputs": [],
   "source": [
    "def viewProcess(datafile) :\n",
    "    direc = 'train'\n",
    "    tree = ET.parse(os.path.join(direc,datafile))\n",
    "    for el in tree.iter():\n",
    "        print el.tag"
   ]
  },
  {
   "cell_type": "code",
   "execution_count": 134,
   "metadata": {
    "collapsed": true
   },
   "outputs": [],
   "source": [
    "# Allow you to check the filenames of a file name\n",
    "# Need to use the FULL filename including .class.xml\n",
    "def viewProcessNames(datafile) :\n",
    "    direc = 'train'\n",
    "    root = ET.parse(os.path.join(direc,datafile)).getroot()\n",
    "\n",
    "    for child in root :\n",
    "        if type(child) is not str :\n",
    "            if 'filename' in child.attrib.keys() :\n",
    "                print child.attrib['filename']"
   ]
  },
  {
   "cell_type": "code",
   "execution_count": 135,
   "metadata": {
    "collapsed": true
   },
   "outputs": [],
   "source": [
    "# Just run this, you don't need to modify anything \n",
    "# Basically this function applies the checking function against part\n",
    "# or all of the training matrix\n",
    "def check_all(start_index, end_index, direc, func):\n",
    "    X = None\n",
    "    classes = []\n",
    "    ids = [] \n",
    "    i = -1\n",
    "    for datafile in os.listdir(direc):\n",
    "        if datafile == '.DS_Store':\n",
    "            continue\n",
    "\n",
    "        i += 1\n",
    "        if i < start_index:\n",
    "            continue \n",
    "        if i >= end_index:\n",
    "            break\n",
    "        \n",
    "        # extract id and true class (if available) from filename\n",
    "        id_str, clazz = datafile.split('.')[:2]\n",
    "        ids.append(id_str)\n",
    "        # add target class if this is training data\n",
    "        try:\n",
    "            classes.append(util.malware_classes.index(clazz))\n",
    "\n",
    "        except ValueError:\n",
    "            # we should only fail to find the label in our list of malware classes\n",
    "            # if this is test data, which always has an \"X\" label\n",
    "            assert clazz == \"X\"\n",
    "            classes.append(-1)\n",
    "\n",
    "        tree = ET.parse(os.path.join(direc,datafile))\n",
    "        this_row = func(tree)\n",
    "        if X is None:\n",
    "            X = this_row\n",
    "        else:\n",
    "            X = np.vstack((X, this_row))\n",
    "\n",
    "    return X, np.array(classes), ids"
   ]
  },
  {
   "cell_type": "code",
   "execution_count": 137,
   "metadata": {
    "collapsed": true
   },
   "outputs": [],
   "source": [
    "# Checks the accuracy of your technique!\n",
    "# Substitute the correct class integer and your checking function\n",
    "# See below for an example\n",
    "def accuracyRate(func, correctClass=0, n=100) :\n",
    "    X_train, y_train, ids = check_all(0,n,'train',func)\n",
    "\n",
    "    pred = [el[0] for el in X_train.tolist()]\n",
    "    isActual = y_train == correctClass\n",
    "\n",
    "    df = pd.DataFrame()\n",
    "    df['id'] = ids\n",
    "    df['pred'] = pred\n",
    "    df['actual'] = isActual.tolist()\n",
    "    df['realClass'] = y_train\n",
    "    df['correct'] = df['actual'] == df['pred']\n",
    "    \n",
    "    print \"False Positives Rate: \" + str(len(df.loc[(df['actual'] == False) & (df['pred'] == True)])/float(n))\n",
    "    print \"False Negative Rate: \" + str(len(df.loc[(df['actual'] == True) & (df['pred'] == False)])/float(n))\n",
    "    print \"Correct ID Rate: \" + str(len(df.loc[df['correct'] == True])/float(n))\n",
    "    print \"\"\n",
    "    return df\n",
    "\n",
    "def viewFalseN(df) :\n",
    "    return df.loc[(df['actual'] == True) & (df['pred'] == False)]\n",
    "\n",
    "def viewFalseP(df) :\n",
    "    return df.loc[(df['actual'] == False) & (df['pred'] == True)]\n",
    "\n",
    "def viewCorrect(df) :\n",
    "    return df.loc[(df['actual'] == True) & (df['pred'] == True)]"
   ]
  },
  {
   "cell_type": "code",
   "execution_count": 153,
   "metadata": {
    "collapsed": false
   },
   "outputs": [
    {
     "name": "stdout",
     "output_type": "stream",
     "text": [
      "False Positives Rate: 0.00810110174984\n",
      "False Negative Rate: 0.00324044069994\n",
      "Correct ID Rate: 0.98865845755\n",
      "\n"
     ]
    }
   ],
   "source": [
    "# Write a function which takes an XML root and returns True/False\n",
    "# Should evaluate whether or not it is part of a malware class\n",
    "def check_swizzor(tree) :\n",
    "    root = tree.getroot()\n",
    "    process = []\n",
    "    for child in root :\n",
    "        if type(child) is not str :\n",
    "            if 'filename' in child.attrib.keys() :\n",
    "                process.append(child.attrib['filename'])\n",
    "        \n",
    "    for i in range(len(process) - 1) :\n",
    "        first = process[i]\n",
    "        second = process[i+1]\n",
    "        \n",
    "        if \"iexplore.exe\" in first and (\"services.exe\" in second or \"svchost.exe\" in second):\n",
    "            return True\n",
    "            break\n",
    "    \n",
    "    return False\n",
    "\n",
    "df = accuracyRate(func=check_swizzor, correctClass=10, n=3086)"
   ]
  },
  {
   "cell_type": "code",
   "execution_count": 145,
   "metadata": {
    "collapsed": false
   },
   "outputs": [
    {
     "name": "stdout",
     "output_type": "stream",
     "text": [
      "False Positives Rate: 0.0301360985094\n",
      "False Negative Rate: 0.0408295528192\n",
      "Correct ID Rate: 0.929034348671\n",
      "\n"
     ]
    }
   ],
   "source": [
    "# Write a function which takes an XML root and returns True/False\n",
    "# Should evaluate whether or not it is part of a malware class\n",
    "def check_VB2(tree) :\n",
    "    root = tree.getroot()\n",
    "    tags = []\n",
    "    process = []\n",
    "    \n",
    "    for el in tree.iter() :\n",
    "        tags.append(el.tag)\n",
    "\n",
    "    for child in root :\n",
    "        if type(child) is not str :\n",
    "            if 'filename' in child.attrib.keys() :\n",
    "                process.append(child.attrib['filename'])\n",
    "    \n",
    "    for i in range(len(tags) - 1) :\n",
    "        first = tags[i]\n",
    "        second = tags[i+1]\n",
    "        \n",
    "        if \"destroy_window\" in first and \"destroy_window\" in second :\n",
    "            if len(process) == 1 :\n",
    "                return True\n",
    "                break\n",
    "    \n",
    "    return False\n",
    "\n",
    "df = accuracyRate(func=check_VB2, correctClass=12, n=3086)"
   ]
  },
  {
   "cell_type": "code",
   "execution_count": 146,
   "metadata": {
    "collapsed": false
   },
   "outputs": [
    {
     "name": "stdout",
     "output_type": "stream",
     "text": [
      "False Positives Rate: 0.00194426441996\n",
      "False Negative Rate: 0.00745301360985\n",
      "Correct ID Rate: 0.99060272197\n",
      "\n"
     ]
    }
   ],
   "source": [
    "# Write a function which takes an XML root and returns True/False\n",
    "# Should evaluate whether or not it is part of a malware class\n",
    "def check_autorun(tree) :\n",
    "    root = tree.getroot()\n",
    "    \n",
    "    tags = []\n",
    "    process = []\n",
    "    \n",
    "    for child in root :\n",
    "        if type(child) is not str :\n",
    "            if 'filename' in child.attrib.keys() :\n",
    "                process.append(child.attrib['filename'])\n",
    "    \n",
    "    keywords = ['taskkill']\n",
    "    \n",
    "    for i in range(len(process)) :\n",
    "        for word in keywords :\n",
    "            if word in process[i] :\n",
    "                return True\n",
    "                break\n",
    "    \n",
    "    return False\n",
    "\n",
    "df = accuracyRate(func=check_autorun, correctClass=1, n=3086)"
   ]
  },
  {
   "cell_type": "code",
   "execution_count": null,
   "metadata": {
    "collapsed": true
   },
   "outputs": [],
   "source": []
  }
 ],
 "metadata": {
  "kernelspec": {
   "display_name": "Python 2",
   "language": "python",
   "name": "python2"
  },
  "language_info": {
   "codemirror_mode": {
    "name": "ipython",
    "version": 2
   },
   "file_extension": ".py",
   "mimetype": "text/x-python",
   "name": "python",
   "nbconvert_exporter": "python",
   "pygments_lexer": "ipython2",
   "version": "2.7.10"
  }
 },
 "nbformat": 4,
 "nbformat_minor": 0
}
