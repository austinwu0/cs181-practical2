{
 "cells": [
  {
   "cell_type": "code",
   "execution_count": 180,
   "metadata": {
    "collapsed": true
   },
   "outputs": [],
   "source": [
    "from matplotlib import pyplot as plt\n",
    "%matplotlib inline"
   ]
  },
  {
   "cell_type": "code",
   "execution_count": 2,
   "metadata": {
    "collapsed": false
   },
   "outputs": [],
   "source": [
    "# Example Feature Extraction from XML Files\n",
    "# We count the number of specific system calls made by the programs, and use\n",
    "# these as our features.\n",
    "\n",
    "# This code requires that the unzipped training set is in a folder called \"train\". \n",
    "\n",
    "import os\n",
    "from collections import Counter\n",
    "try:\n",
    "    import xml.etree.cElementTree as ET\n",
    "except ImportError:\n",
    "    import xml.etree.ElementTree as ET\n",
    "import numpy as np\n",
    "from scipy import sparse\n",
    "\n",
    "import util\n",
    "\n",
    "TRAIN_DIR = \"train\"\n",
    "TEST_DIR = \"test\"\n",
    "\n",
    "call_set = set([])\n",
    "\n",
    "def add_to_set(tree):\n",
    "    for el in tree.iter():\n",
    "        call = el.tag\n",
    "        call_set.add(call)\n",
    "\n",
    "def create_data_matrix(start_index, end_index, direc=\"train\"):\n",
    "    X = None\n",
    "    classes = []\n",
    "    ids = [] \n",
    "    i = -1\n",
    "    for datafile in os.listdir(direc):\n",
    "        if datafile == '.DS_Store':\n",
    "            continue\n",
    "\n",
    "        i += 1\n",
    "        if i < start_index:\n",
    "            continue \n",
    "        if i >= end_index:\n",
    "            break\n",
    "\n",
    "        # extract id and true class (if available) from filename\n",
    "        id_str, clazz = datafile.split('.')[:2]\n",
    "        ids.append(id_str)\n",
    "        # add target class if this is training data\n",
    "        try:\n",
    "            classes.append(util.malware_classes.index(clazz))\n",
    "\n",
    "        except ValueError:\n",
    "            # we should only fail to find the label in our list of malware classes\n",
    "            # if this is test data, which always has an \"X\" label\n",
    "            assert clazz == \"X\"\n",
    "            classes.append(-1)\n",
    "\n",
    "        # parse file as an xml document\n",
    "        tree = ET.parse(os.path.join(direc,datafile))\n",
    "        add_to_set(tree)\n",
    "        this_row = call_feats(tree)\n",
    "        if X is None:\n",
    "            X = this_row \n",
    "        else:\n",
    "            X = np.vstack((X, this_row))\n",
    "\n",
    "    return X, np.array(classes), ids\n",
    "\n",
    "def call_feats(tree):\n",
    "    calls = ['all_section', 'bind_socket', 'check_for_debugger',\n",
    "       'com_create_instance', 'com_get_class_object', 'connect',\n",
    "       'connect_socket', 'copy_file', 'create_directory', 'create_file',\n",
    "       'create_key', 'create_mutex', 'create_open_file', 'create_process',\n",
    "       'create_socket', 'create_thread', 'create_window', 'delete_file',\n",
    "       'delete_key', 'delete_value', 'destroy_window', 'dump_line',\n",
    "       'enum_keys', 'enum_processes', 'enum_values', 'enum_window',\n",
    "       'find_file', 'find_window', 'get_computer_name',\n",
    "       'get_file_attributes', 'get_host_by_name', 'get_system_directory',\n",
    "       'get_system_time', 'get_username', 'get_windows_directory',\n",
    "       'impersonate_user', 'kill_process', 'load_dll', 'load_image',\n",
    "       'open_file', 'open_key', 'open_mutex', 'open_process',\n",
    "       'open_scmanager', 'open_service', 'open_url', 'process',\n",
    "       'processes', 'query_value', 'read_section', 'read_value',\n",
    "       'recv_socket', 'remove_directory', 'send_socket',\n",
    "       'set_file_attributes', 'set_file_time', 'set_value',\n",
    "       'set_windows_hook', 'show_window', 'sleep', 'thread',\n",
    "       'trimmed_bytes', 'vm_protect', 'write_value']\n",
    "\n",
    "    call_counter = {}\n",
    "    for el in tree.iter():\n",
    "        call = el.tag\n",
    "        if call not in call_counter:\n",
    "            call_counter[call] = 0\n",
    "        else:\n",
    "            call_counter[call] += 1\n",
    "\n",
    "    call_feat_array = np.zeros(len(calls))\n",
    "    for i in range(len(calls)):\n",
    "        call = calls[i]\n",
    "        call_feat_array[i] = 0\n",
    "        if call in call_counter:\n",
    "            call_feat_array[i] = call_counter[call]\n",
    "\n",
    "    return call_feat_array"
   ]
  },
  {
   "cell_type": "code",
   "execution_count": 48,
   "metadata": {
    "collapsed": false
   },
   "outputs": [
    {
     "name": "stdout",
     "output_type": "stream",
     "text": [
      "CPU times: user 36 s, sys: 2.07 s, total: 38.1 s\n",
      "Wall time: 41.8 s\n"
     ]
    }
   ],
   "source": [
    "%%time\n",
    "X_train, t_train, train_ids = create_data_matrix(0, 3086, TRAIN_DIR)"
   ]
  },
  {
   "cell_type": "code",
   "execution_count": 1,
   "metadata": {
    "collapsed": false
   },
   "outputs": [
    {
     "data": {
      "text/plain": [
       "\"tree = ET.parse('train/00278ec420236020d6121dffe0cc20034422e7228.Lipler.xml')\\nadd_to_set(tree)\\n\\nfor el in tree.iter('load_dll'):\\n    print el.attrib\""
      ]
     },
     "execution_count": 1,
     "metadata": {},
     "output_type": "execute_result"
    }
   ],
   "source": [
    "# Some new feature engineering (not done yet)\n",
    "'''tree = ET.parse('train/00278ec420236020d6121dffe0cc20034422e7228.Lipler.xml')\n",
    "add_to_set(tree)\n",
    "\n",
    "for el in tree.iter('load_dll'):\n",
    "    print el.attrib'''"
   ]
  },
  {
   "cell_type": "code",
   "execution_count": 139,
   "metadata": {
    "collapsed": false
   },
   "outputs": [],
   "source": [
    "def normalize1(array) :\n",
    "    rowsum = np.sum(array)\n",
    "    newrow = array / float(rowsum)\n",
    "    return np.append(newrow, rowsum)"
   ]
  },
  {
   "cell_type": "code",
   "execution_count": 280,
   "metadata": {
    "collapsed": true
   },
   "outputs": [],
   "source": [
    "def mat_log(matrix, new=0) :\n",
    "    logged = np.log(matrix)\n",
    "    logged[logged == - float(\"inf\")] = new\n",
    "    return logged"
   ]
  },
  {
   "cell_type": "code",
   "execution_count": 188,
   "metadata": {
    "collapsed": false
   },
   "outputs": [],
   "source": [
    "import sys\n",
    "import random\n",
    "\n",
    "def see_mat(matrix, index='c', i=0) :\n",
    "    if index not in ['c', 'r'] :\n",
    "        print \"You must choose a column or row\"\n",
    "        \n",
    "    if index == 'c' :\n",
    "        if i >= matrix.shape[1] :\n",
    "            print \"Column does not exist\"\n",
    "        else :\n",
    "            return matrix[:,i]\n",
    "    elif index == 'r' :\n",
    "        if i >= matrix.shape[0] :\n",
    "            print \"Row does not exist\"\n",
    "        else :\n",
    "            return matrix[i,:]"
   ]
  },
  {
   "cell_type": "code",
   "execution_count": 201,
   "metadata": {
    "collapsed": false
   },
   "outputs": [],
   "source": [
    "X_train_normalize1 = np.apply_along_axis(normalize1, 1, X_train)"
   ]
  },
  {
   "cell_type": "code",
   "execution_count": 253,
   "metadata": {
    "collapsed": false
   },
   "outputs": [
    {
     "data": {
      "image/png": "[encoded data removed]",
      "text/plain": [
       "<matplotlib.figure.Figure at 0x10acb17d0>"
      ]
     },
     "metadata": {},
     "output_type": "display_data"
    }
   ],
   "source": [
    "random_num = random.randint(0, 63)\n",
    "plt.hist(see_mat(X_train_normalize1, 'c', random_num));\n",
    "plt.title('distribution of feature ' + str(random_num));"
   ]
  },
  {
   "cell_type": "code",
   "execution_count": 281,
   "metadata": {
    "collapsed": false
   },
   "outputs": [
    {
     "name": "stderr",
     "output_type": "stream",
     "text": [
      "/anaconda/lib/python2.7/site-packages/IPython/kernel/__main__.py:2: RuntimeWarning: divide by zero encountered in log\n",
      "  from IPython.kernel.zmq import kernelapp as app\n"
     ]
    },
    {
     "data": {
      "image/png": "[encoded data removed]",
      "text/plain": [
       "<matplotlib.figure.Figure at 0x10a55ce90>"
      ]
     },
     "metadata": {},
     "output_type": "display_data"
    }
   ],
   "source": [
    "X_train_logged = mat_log(X_train, -1)\n",
    "\n",
    "random_num = random.randint(0, 63)\n",
    "plt.hist(see_mat(X_train_logged, 'c', random_num));\n",
    "plt.title('distribution of feature ' + str(random_num));"
   ]
  },
  {
   "cell_type": "code",
   "execution_count": 283,
   "metadata": {
    "collapsed": false
   },
   "outputs": [
    {
     "name": "stderr",
     "output_type": "stream",
     "text": [
      "/anaconda/lib/python2.7/site-packages/IPython/kernel/__main__.py:2: RuntimeWarning: divide by zero encountered in log\n",
      "  from IPython.kernel.zmq import kernelapp as app\n"
     ]
    },
    {
     "data": {
      "image/png": "[encoded data removed]",
      "text/plain": [
       "<matplotlib.figure.Figure at 0x108a2bf90>"
      ]
     },
     "metadata": {},
     "output_type": "display_data"
    }
   ],
   "source": [
    "X_train_logged = mat_log(np.apply_along_axis(normalize1, 1, X_train), 0)\n",
    "\n",
    "random_num = random.randint(0, 63)\n",
    "plt.hist(see_mat(X_train_logged, 'c', random_num));\n",
    "plt.title('distribution of feature ' + str(random_num));"
   ]
  },
  {
   "cell_type": "code",
   "execution_count": null,
   "metadata": {
    "collapsed": true
   },
   "outputs": [],
   "source": []
  }
 ],
 "metadata": {
  "kernelspec": {
   "display_name": "Python 2",
   "language": "python",
   "name": "python2"
  },
  "language_info": {
   "codemirror_mode": {
    "name": "ipython",
    "version": 2
   },
   "file_extension": ".py",
   "mimetype": "text/x-python",
   "name": "python",
   "nbconvert_exporter": "python",
   "pygments_lexer": "ipython2",
   "version": "2.7.10"
  }
 },
 "nbformat": 4,
 "nbformat_minor": 0
}
