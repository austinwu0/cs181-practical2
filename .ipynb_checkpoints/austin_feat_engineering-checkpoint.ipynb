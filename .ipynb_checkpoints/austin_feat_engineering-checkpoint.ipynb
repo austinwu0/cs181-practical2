{
 "cells": [
  {
   "cell_type": "code",
   "execution_count": 1,
   "metadata": {
    "collapsed": true
   },
   "outputs": [],
   "source": [
    "import os\n",
    "import pandas as pd\n",
    "from collections import Counter\n",
    "try:\n",
    "    import xml.etree.cElementTree as ET\n",
    "except ImportError:\n",
    "    import xml.etree.ElementTree as ET\n",
    "import numpy as np\n",
    "from scipy import sparse\n",
    "import util"
   ]
  },
  {
   "cell_type": "code",
   "execution_count": 2,
   "metadata": {
    "collapsed": false
   },
   "outputs": [],
   "source": [
    "# Write a function which takes an XML root and returns True/False\n",
    "# Should evaluate whether or not it is part of a malware class\n",
    "def check_swizzor(root) :\n",
    "    process = []\n",
    "    for child in root :\n",
    "        if type(child) is not str :\n",
    "            if 'filename' in child.attrib.keys() :\n",
    "                process.append(child.attrib['filename'])\n",
    "        \n",
    "    for i in range(len(process) - 1) :\n",
    "        first = process[i]\n",
    "        second = process[i+1]\n",
    "        \n",
    "        if \"iexplore.exe\" in first and (\"services.exe\" in second or \"svchost.exe\" in second):\n",
    "            return True\n",
    "            break\n",
    "    \n",
    "    return False"
   ]
  },
  {
   "cell_type": "code",
   "execution_count": 3,
   "metadata": {
    "collapsed": true
   },
   "outputs": [],
   "source": [
    "# Just run this, you don't need to modify anything \n",
    "# Basically this function applies the checking function against part\n",
    "# or all of the training matrix\n",
    "def check_all(start_index, end_index, direc, func):\n",
    "    X = None\n",
    "    classes = []\n",
    "    ids = [] \n",
    "    i = -1\n",
    "    for datafile in os.listdir(direc):\n",
    "        if datafile == '.DS_Store':\n",
    "            continue\n",
    "\n",
    "        i += 1\n",
    "        if i < start_index:\n",
    "            continue \n",
    "        if i >= end_index:\n",
    "            break\n",
    "        \n",
    "        # extract id and true class (if available) from filename\n",
    "        id_str, clazz = datafile.split('.')[:2]\n",
    "        ids.append(id_str)\n",
    "        # add target class if this is training data\n",
    "        try:\n",
    "            classes.append(util.malware_classes.index(clazz))\n",
    "\n",
    "        except ValueError:\n",
    "            # we should only fail to find the label in our list of malware classes\n",
    "            # if this is test data, which always has an \"X\" label\n",
    "            assert clazz == \"X\"\n",
    "            classes.append(-1)\n",
    "\n",
    "        root = ET.parse(os.path.join(direc,datafile)).getroot()\n",
    "        this_row = func(root)\n",
    "        if X is None:\n",
    "            X = this_row\n",
    "        else:\n",
    "            X = np.vstack((X, this_row))\n",
    "\n",
    "    return X, np.array(classes), ids"
   ]
  },
  {
   "cell_type": "code",
   "execution_count": 9,
   "metadata": {
    "collapsed": false
   },
   "outputs": [],
   "source": [
    "# Checks the accuracy of your technique!\n",
    "# Substitute the correct class integer and your checking function\n",
    "# See below for an example\n",
    "def accuracyRate(func, correctClass=0, n=100) :\n",
    "    X_train, y_train, ids = check_all(0,n,'train',func)\n",
    "\n",
    "    pred = [el[0] for el in X_train.tolist()]\n",
    "    isActual = y_train == correctClass\n",
    "\n",
    "    df = pd.DataFrame()\n",
    "    df['id'] = ids\n",
    "    df['pred'] = pred\n",
    "    df['actual'] = isActual.tolist()\n",
    "    df['correct'] = df['actual'] == df['pred']\n",
    "    \n",
    "    print \"False Positives Rate: \" + str(len(df.loc[(df['actual'] == False) & (df['pred'] == True)])/float(n))\n",
    "    print \"False Negative Rate: \" + str(len(df.loc[(df['actual'] == True) & (df['pred'] == False)])/float(n))\n",
    "    print \"Correct ID Rate: \" + str(len(df.loc[df['correct'] == True])/float(n))\n",
    "    print \"\""
   ]
  },
  {
   "cell_type": "code",
   "execution_count": 10,
   "metadata": {
    "collapsed": false
   },
   "outputs": [
    {
     "name": "stdout",
     "output_type": "stream",
     "text": [
      "False Positives Rate: 0.00810110174984\n",
      "False Negative Rate: 0.00324044069994\n",
      "Correct ID Rate: 0.98865845755\n",
      "CPU times: user 20.9 s, sys: 1.49 s, total: 22.4 s\n",
      "Wall time: 26.2 s\n"
     ]
    }
   ],
   "source": [
    "%%time\n",
    "# checks the accuracy of function check_swizzor\n",
    "# swizzor's class number is #10\n",
    "# there are 3086 entries in the training matrix\n",
    "accuracyRate(func=check_swizzor, correctClass=10, n=3086)"
   ]
  },
  {
   "cell_type": "code",
   "execution_count": null,
   "metadata": {
    "collapsed": true
   },
   "outputs": [],
   "source": []
  }
 ],
 "metadata": {
  "kernelspec": {
   "display_name": "Python 2",
   "language": "python",
   "name": "python2"
  },
  "language_info": {
   "codemirror_mode": {
    "name": "ipython",
    "version": 2
   },
   "file_extension": ".py",
   "mimetype": "text/x-python",
   "name": "python",
   "nbconvert_exporter": "python",
   "pygments_lexer": "ipython2",
   "version": "2.7.10"
  }
 },
 "nbformat": 4,
 "nbformat_minor": 0
}
