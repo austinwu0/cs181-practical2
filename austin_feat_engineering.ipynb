{
 "cells": [
  {
   "cell_type": "code",
   "execution_count": 97,
   "metadata": {
    "collapsed": true
   },
   "outputs": [],
   "source": [
    "import os\n",
    "import pandas as pd\n",
    "from collections import Counter\n",
    "try:\n",
    "    import xml.etree.cElementTree as ET\n",
    "except ImportError:\n",
    "    import xml.etree.ElementTree as ET\n",
    "import numpy as np\n",
    "from scipy import sparse\n",
    "import util\n",
    "from matplotlib import pyplot as plt\n",
    "%matplotlib inline"
   ]
  },
  {
   "cell_type": "code",
   "execution_count": 40,
   "metadata": {
    "collapsed": true
   },
   "outputs": [],
   "source": [
    "def viewProcess(datafile) :\n",
    "    direc = 'train'\n",
    "    tree = ET.parse(os.path.join(direc,datafile))\n",
    "    for el in tree.iter():\n",
    "        print el.tag"
   ]
  },
  {
   "cell_type": "code",
   "execution_count": 41,
   "metadata": {
    "collapsed": false
   },
   "outputs": [],
   "source": [
    "# Allow you to check the filenames of a file name\n",
    "# Need to use the FULL filename including .class.xml\n",
    "def viewProcessNames(datafile) :\n",
    "    direc = 'train'\n",
    "    root = ET.parse(os.path.join(direc,datafile)).getroot()\n",
    "\n",
    "    for child in root :\n",
    "        if type(child) is not str :\n",
    "            if 'filename' in child.attrib.keys() :\n",
    "                print child.attrib['filename']"
   ]
  },
  {
   "cell_type": "code",
   "execution_count": null,
   "metadata": {
    "collapsed": true
   },
   "outputs": [],
   "source": [
    "# Write a function which takes an XML root and returns True/False\n",
    "# Should evaluate whether or not it is part of a malware class\n",
    "def n_Processes(tree) :\n",
    "    root = tree.getroot()\n",
    "    process = []\n",
    "    for child in root :\n",
    "        if type(child) is not str :\n",
    "            if 'filename' in child.attrib.keys() :\n",
    "                process.append(child.attrib['filename'])\n",
    "        \n",
    "    return len(process)"
   ]
  },
  {
   "cell_type": "code",
   "execution_count": 45,
   "metadata": {
    "collapsed": false
   },
   "outputs": [],
   "source": [
    "# Write a function which takes an XML root and returns True/False\n",
    "# Should evaluate whether or not it is part of a malware class\n",
    "def check_swizzor(tree) :\n",
    "    root = tree.getroot()\n",
    "    process = []\n",
    "    for child in root :\n",
    "        if type(child) is not str :\n",
    "            if 'filename' in child.attrib.keys() :\n",
    "                process.append(child.attrib['filename'])\n",
    "        \n",
    "    for i in range(len(process) - 1) :\n",
    "        first = process[i]\n",
    "        second = process[i+1]\n",
    "        \n",
    "        if \"iexplore.exe\" in first and (\"services.exe\" in second or \"svchost.exe\" in second):\n",
    "            return True\n",
    "            break\n",
    "    \n",
    "    return False"
   ]
  },
  {
   "cell_type": "code",
   "execution_count": 46,
   "metadata": {
    "collapsed": true
   },
   "outputs": [],
   "source": [
    "# Just run this, you don't need to modify anything \n",
    "# Basically this function applies the checking function against part\n",
    "# or all of the training matrix\n",
    "def check_all(start_index, end_index, direc, func):\n",
    "    X = None\n",
    "    classes = []\n",
    "    ids = [] \n",
    "    i = -1\n",
    "    for datafile in os.listdir(direc):\n",
    "        if datafile == '.DS_Store':\n",
    "            continue\n",
    "\n",
    "        i += 1\n",
    "        if i < start_index:\n",
    "            continue \n",
    "        if i >= end_index:\n",
    "            break\n",
    "        \n",
    "        # extract id and true class (if available) from filename\n",
    "        id_str, clazz = datafile.split('.')[:2]\n",
    "        ids.append(id_str)\n",
    "        # add target class if this is training data\n",
    "        try:\n",
    "            classes.append(util.malware_classes.index(clazz))\n",
    "\n",
    "        except ValueError:\n",
    "            # we should only fail to find the label in our list of malware classes\n",
    "            # if this is test data, which always has an \"X\" label\n",
    "            assert clazz == \"X\"\n",
    "            classes.append(-1)\n",
    "\n",
    "        tree = ET.parse(os.path.join(direc,datafile))\n",
    "        this_row = func(tree)\n",
    "        if X is None:\n",
    "            X = this_row\n",
    "        else:\n",
    "            X = np.vstack((X, this_row))\n",
    "\n",
    "    return X, np.array(classes), ids"
   ]
  },
  {
   "cell_type": "code",
   "execution_count": 36,
   "metadata": {
    "collapsed": false
   },
   "outputs": [],
   "source": [
    "# Checks the accuracy of your technique!\n",
    "# Substitute the correct class integer and your checking function\n",
    "# See below for an example\n",
    "def accuracyRate(func, correctClass=0, n=100) :\n",
    "    X_train, y_train, ids = check_all(0,n,'train',func)\n",
    "\n",
    "    pred = [el[0] for el in X_train.tolist()]\n",
    "    isActual = y_train == correctClass\n",
    "\n",
    "    df = pd.DataFrame()\n",
    "    df['id'] = ids\n",
    "    df['pred'] = pred\n",
    "    df['actual'] = isActual.tolist()\n",
    "    df['realClass'] = y_train\n",
    "    df['correct'] = df['actual'] == df['pred']\n",
    "    \n",
    "    print \"False Positives Rate: \" + str(len(df.loc[(df['actual'] == False) & (df['pred'] == True)])/float(n))\n",
    "    print \"False Negative Rate: \" + str(len(df.loc[(df['actual'] == True) & (df['pred'] == False)])/float(n))\n",
    "    print \"Correct ID Rate: \" + str(len(df.loc[df['correct'] == True])/float(n))\n",
    "    print \"\"\n",
    "    return df"
   ]
  },
  {
   "cell_type": "code",
   "execution_count": 136,
   "metadata": {
    "collapsed": true
   },
   "outputs": [],
   "source": [
    "def viewFalseN(df) :\n",
    "    return df.loc[(df['actual'] == True) & (df['pred'] == False)]\n",
    "\n",
    "def viewFalseP(df) :\n",
    "    return df.loc[(df['actual'] == False) & (df['pred'] == True)]\n",
    "\n",
    "def viewCorrect(df) :\n",
    "    return df.loc[(df['actual'] == True) & (df['pred'] == True)]"
   ]
  },
  {
   "cell_type": "code",
   "execution_count": 226,
   "metadata": {
    "collapsed": false
   },
   "outputs": [
    {
     "name": "stdout",
     "output_type": "stream",
     "text": [
      "False Positives Rate: 0.00810110174984\n",
      "False Negative Rate: 0.00324044069994\n",
      "Correct ID Rate: 0.98865845755\n",
      "\n",
      "CPU times: user 20.8 s, sys: 1.24 s, total: 22.1 s\n",
      "Wall time: 26 s\n"
     ]
    }
   ],
   "source": [
    "%%time\n",
    "# checks the accuracy of function check_swizzor\n",
    "# swizzor's class number is #10\n",
    "# there are 3086 entries in the training matrix\n",
    "df = accuracyRate(func=check_swizzor, correctClass=10, n=3086)"
   ]
  },
  {
   "cell_type": "code",
   "execution_count": 227,
   "metadata": {
    "collapsed": false
   },
   "outputs": [
    {
     "name": "stdout",
     "output_type": "stream",
     "text": [
      "(25, 5)\n",
      "(10, 5)\n"
     ]
    }
   ],
   "source": [
    "print viewFalseP(df).shape\n",
    "print viewFalseN(df).shape"
   ]
  },
  {
   "cell_type": "code",
   "execution_count": 120,
   "metadata": {
    "collapsed": true
   },
   "outputs": [],
   "source": [
    "# Write a function which takes an XML root and returns True/False\n",
    "# Should evaluate whether or not it is part of a malware class\n",
    "def check_VB2(tree) :\n",
    "    root = tree.getroot()\n",
    "    tags = []\n",
    "    process = []\n",
    "    \n",
    "    for el in tree.iter() :\n",
    "        tags.append(el.tag)\n",
    "\n",
    "    for child in root :\n",
    "        if type(child) is not str :\n",
    "            if 'filename' in child.attrib.keys() :\n",
    "                process.append(child.attrib['filename'])\n",
    "    \n",
    "    for i in range(len(tags) - 1) :\n",
    "        first = tags[i]\n",
    "        second = tags[i+1]\n",
    "        \n",
    "        if \"destroy_window\" in first and \"destroy_window\" in second :\n",
    "            if len(process) == 1 :\n",
    "                return True\n",
    "                break\n",
    "    \n",
    "    return False\n",
    "\n",
    "# Notes on VB \n",
    "# seems to be very similar to \"None\"\n",
    "# Not very good so far ... damn"
   ]
  },
  {
   "cell_type": "code",
   "execution_count": 141,
   "metadata": {
    "collapsed": false,
    "scrolled": true
   },
   "outputs": [
    {
     "name": "stdout",
     "output_type": "stream",
     "text": [
      "False Positives Rate: 0.0777705767984\n",
      "False Negative Rate: 0.0408295528192\n",
      "Correct ID Rate: 0.881399870382\n",
      "\n",
      "CPU times: user 20.6 s, sys: 1.31 s, total: 21.9 s\n",
      "Wall time: 25.7 s\n"
     ]
    }
   ],
   "source": [
    "%%time\n",
    "df = accuracyRate(func=check_VB, correctClass=12, n=3086)"
   ]
  },
  {
   "cell_type": "code",
   "execution_count": 212,
   "metadata": {
    "collapsed": true
   },
   "outputs": [],
   "source": [
    "# Write a function which takes an XML root and returns True/False\n",
    "# Should evaluate whether or not it is part of a malware class\n",
    "def check_autorun(tree) :\n",
    "    root = tree.getroot()\n",
    "    \n",
    "    tags = []\n",
    "    process = []\n",
    "    \n",
    "    for child in root :\n",
    "        if type(child) is not str :\n",
    "            if 'filename' in child.attrib.keys() :\n",
    "                process.append(child.attrib['filename'])\n",
    "    \n",
    "    keywords = ['taskkill']\n",
    "    \n",
    "    for i in range(len(process)) :\n",
    "        for word in keywords :\n",
    "            if word in process[i] :\n",
    "                return True\n",
    "                break\n",
    "    \n",
    "    return False\n",
    "\n",
    "# Notes on AutoRun\n",
    "# Not bad, only 6 false positives but about 5 times as many false N\n",
    "# As many false negatives as correct IDs"
   ]
  },
  {
   "cell_type": "code",
   "execution_count": 213,
   "metadata": {
    "collapsed": false
   },
   "outputs": [
    {
     "name": "stdout",
     "output_type": "stream",
     "text": [
      "False Positives Rate: 0.00194426441996\n",
      "False Negative Rate: 0.00745301360985\n",
      "Correct ID Rate: 0.99060272197\n",
      "\n",
      "CPU times: user 21.2 s, sys: 1.28 s, total: 22.4 s\n",
      "Wall time: 26.2 s\n"
     ]
    }
   ],
   "source": [
    "%%time\n",
    "df = accuracyRate(func=check_autorun, correctClass=1, n=3086)"
   ]
  },
  {
   "cell_type": "code",
   "execution_count": 215,
   "metadata": {
    "collapsed": false
   },
   "outputs": [
    {
     "name": "stdout",
     "output_type": "stream",
     "text": [
      "c:\\bd2a1362e59b1660859d82cad03db947.EX\n",
      "C:\\WINDOWS\\system32\\svchost.exe\n",
      "C:\\WINDOWS\\Microsoft.NET\\Framework\\v2.0.50727\\ngen.exe install MMCEx, Version=3.0.0.0, Culture=neutral, PublicKeyToken=31bf3856ad364e35, processorArchitecture=MSIL /noDependencies\n",
      "C:\\WINDOWS\\Microsoft.NET\\Framework\\v2.0.50727\\mscorsvw.exe -UseCLSID {64D9463A-CB1F-4E7E-97B2-88EEC749D9EF} -Comment Dependency Analyzer\n",
      "C:\\WINDOWS\\Microsoft.NET\\Framework\\v2.0.50727\\mscorsvw.exe -UseCLSID {B27DB6E1-605C-47B5-8905-8BE908B7B1F1} -Comment Compile worker for MMCEx, Version=3.0.0.0, Culture=neutral, PublicKeyToken=31bf3856ad364e35, processorArchitecture=MSIL\n",
      "C:\\WINDOWS\\Microsoft.NET\\Framework\\v2.0.50727\\ngen.exe install MMCFxCommon, Version=3.0.0.0, Culture=neutral, PublicKeyToken=31bf3856ad364e35, processorArchitecture=MSIL /noDependencies\n",
      "C:\\WINDOWS\\Microsoft.NET\\Framework\\v2.0.50727\\mscorsvw.exe -UseCLSID {25478E7E-EF50-4BEA-BF8D-38EE08768225} -Comment Dependency Analyzer\n",
      "C:\\WINDOWS\\Microsoft.NET\\Framework\\v2.0.50727\\mscorsvw.exe -UseCLSID {B2E36352-1297-4D07-AB4B-6C267909A81E} -Comment Compile worker for MMCFxCommon, Version=3.0.0.0, Culture=neutral, PublicKeyToken=31bf3856ad364e35, processorArchitecture=MSIL\n",
      "C:\\WINDOWS\\Microsoft.NET\\Framework\\v2.0.50727\\ngen.exe install Microsoft.ManagementConsole, Version=3.0.0.0, Culture=neutral, PublicKeyToken=31bf3856ad364e35, processorArchitecture=MSIL /noDependencies\n",
      "C:\\WINDOWS\\Microsoft.NET\\Framework\\v2.0.50727\\mscorsvw.exe -UseCLSID {7F229794-A176-4A49-BD4A-975A69186A26} -Comment Dependency Analyzer\n",
      "C:\\WINDOWS\\Microsoft.NET\\Framework\\v2.0.50727\\mscorsvw.exe -UseCLSID {097C011E-BA55-4427-AF21-5E4720E6AFB4} -Comment Compile worker for Microsoft.ManagementConsole, Version=3.0.0.0, Culture=neutral, PublicKeyToken=31bf3856ad364e35, processorArchitecture=MSIL\n"
     ]
    }
   ],
   "source": [
    "viewProcessNames('2b5ac6a2cc219da8fbb3d29ebea207de7c6e0924b.Virut.xml')"
   ]
  },
  {
   "cell_type": "code",
   "execution_count": 216,
   "metadata": {
    "collapsed": false
   },
   "outputs": [
    {
     "name": "stdout",
     "output_type": "stream",
     "text": [
      "c:\\dfd4d1666eb593b65b0cce0746775aca.EX\n",
      "C:\\WINDOWS\\system32\\svchost.exe\n",
      "C:\\WINDOWS\\system32\\services.exe\n"
     ]
    }
   ],
   "source": [
    "viewProcessNames('5c1444dfae977f4c7d0262cb4bdb9778208df2edd.Virut.xml')"
   ]
  },
  {
   "cell_type": "code",
   "execution_count": 219,
   "metadata": {
    "collapsed": false
   },
   "outputs": [
    {
     "name": "stdout",
     "output_type": "stream",
     "text": [
      "c:\\eea7219b677bd8d25316cbca7f1563f2.EX\n"
     ]
    }
   ],
   "source": [
    "viewProcessNames('9c5874e60c7f44755c71c3f5d99ce3978501a717a.Virut.xml')"
   ]
  },
  {
   "cell_type": "code",
   "execution_count": 225,
   "metadata": {
    "collapsed": false
   },
   "outputs": [
    {
     "name": "stdout",
     "output_type": "stream",
     "text": [
      "c:\\dc7c7a0c7a90d2e310c95eb5d8b67a74.EX\n"
     ]
    }
   ],
   "source": [
    "viewProcessNames('b89c6244c441835ee0c8a0359a6de49a899323505.Virut.xml')"
   ]
  },
  {
   "cell_type": "code",
   "execution_count": null,
   "metadata": {
    "collapsed": true
   },
   "outputs": [],
   "source": []
  }
 ],
 "metadata": {
  "kernelspec": {
   "display_name": "Python 2",
   "language": "python",
   "name": "python2"
  },
  "language_info": {
   "codemirror_mode": {
    "name": "ipython",
    "version": 2
   },
   "file_extension": ".py",
   "mimetype": "text/x-python",
   "name": "python",
   "nbconvert_exporter": "python",
   "pygments_lexer": "ipython2",
   "version": "2.7.10"
  }
 },
 "nbformat": 4,
 "nbformat_minor": 0
}
