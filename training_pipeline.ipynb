{
 "cells": [
  {
   "cell_type": "code",
   "execution_count": 88,
   "metadata": {
    "collapsed": true
   },
   "outputs": [],
   "source": [
    "import os\n",
    "import util\n",
    "from scipy import sparse\n",
    "import numpy as np\n",
    "from collections import Counter\n",
    "import pandas as pd\n",
    "import random\n",
    "from matplotlib import pyplot as plt\n",
    "%matplotlib inline\n",
    "\n",
    "try:\n",
    "    import xml.etree.cElementTree as ET\n",
    "except ImportError:\n",
    "    import xml.etree.ElementTree as ET"
   ]
  },
  {
   "cell_type": "code",
   "execution_count": 89,
   "metadata": {
    "collapsed": false
   },
   "outputs": [],
   "source": [
    "direc = 'train'\n",
    "\n",
    "fake_ids = []\n",
    "classes = []\n",
    "i = 0\n",
    "\n",
    "for datafile in os.listdir(direc):\n",
    "    if datafile == '.DS_Store':\n",
    "        continue\n",
    "\n",
    "    i += 1\n",
    "\n",
    "    # extract id and true class (if available) from filename\n",
    "    id_str, clazz = datafile.split('.')[:2]\n",
    "    fake_ids.append(str(datafile))\n",
    "    try:\n",
    "        classes.append(util.malware_classes.index(clazz))\n",
    "\n",
    "    except ValueError:\n",
    "        # we should only fail to find the label in our list of malware classes\n",
    "        # if this is test data, which always has an \"X\" label\n",
    "        assert clazz == \"X\"\n",
    "        classes.append(-1)\n",
    "\n",
    "df = pd.DataFrame()\n",
    "df['ids'] = fake_ids\n",
    "df['class'] = classes"
   ]
  },
  {
   "cell_type": "code",
   "execution_count": 90,
   "metadata": {
    "collapsed": false
   },
   "outputs": [],
   "source": [
    "from sklearn.cross_validation import train_test_split\n",
    "train_df, test_df = train_test_split(df, test_size = 0.33)"
   ]
  },
  {
   "cell_type": "code",
   "execution_count": 91,
   "metadata": {
    "collapsed": false
   },
   "outputs": [],
   "source": [
    "def check_swizzor(direc, datafile) :\n",
    "    tree = ET.parse(os.path.join(direc,datafile))\n",
    "    root = tree.getroot()\n",
    "    process = []\n",
    "    \n",
    "    for child in root :\n",
    "        if type(child) is not str :\n",
    "            if 'filename' in child.attrib.keys() :\n",
    "                process.append(child.attrib['filename'])\n",
    "        \n",
    "    for i in range(len(process) - 1) :\n",
    "        first = process[i]\n",
    "        second = process[i+1]\n",
    "        \n",
    "        if \"iexplore.exe\" in first and (\"services.exe\" in second or \"svchost.exe\" in second):\n",
    "            return 10\n",
    "            break\n",
    "    \n",
    "    return -1"
   ]
  },
  {
   "cell_type": "code",
   "execution_count": 92,
   "metadata": {
    "collapsed": false
   },
   "outputs": [],
   "source": [
    "mask = []\n",
    "estimate = []\n",
    "for ID in test_df.ids :\n",
    "    guess = check_swizzor('train',ID)\n",
    "    if guess == 10 :\n",
    "        mask.append(False)\n",
    "    else :\n",
    "        mask.append(True)\n",
    "    estimate.append(guess)"
   ]
  },
  {
   "cell_type": "code",
   "execution_count": 93,
   "metadata": {
    "collapsed": false
   },
   "outputs": [
    {
     "name": "stderr",
     "output_type": "stream",
     "text": [
      "/anaconda/lib/python2.7/site-packages/IPython/kernel/__main__.py:1: SettingWithCopyWarning: \n",
      "A value is trying to be set on a copy of a slice from a DataFrame.\n",
      "Try using .loc[row_indexer,col_indexer] = value instead\n",
      "\n",
      "See the the caveats in the documentation: http://pandas.pydata.org/pandas-docs/stable/indexing.html#indexing-view-versus-copy\n",
      "  if __name__ == '__main__':\n"
     ]
    }
   ],
   "source": [
    "test_df['swizzor'] = estimate"
   ]
  },
  {
   "cell_type": "code",
   "execution_count": 94,
   "metadata": {
    "collapsed": false
   },
   "outputs": [],
   "source": [
    "ids_left = [el[1] for el in zip(mask, test_df.ids) if el[0] == True]"
   ]
  },
  {
   "cell_type": "code",
   "execution_count": 95,
   "metadata": {
    "collapsed": false
   },
   "outputs": [],
   "source": [
    "train_proc = []\n",
    "for ID in train_df.ids : \n",
    "    proc = []\n",
    "    tree = ET.parse(os.path.join('train',ID))\n",
    "    for el in tree.iter() :\n",
    "        proc.append(el.tag)\n",
    "    train_proc.append(proc)"
   ]
  },
  {
   "cell_type": "code",
   "execution_count": 96,
   "metadata": {
    "collapsed": true
   },
   "outputs": [],
   "source": [
    "train_proc_lengths = [len(process) for process in train_proc]"
   ]
  },
  {
   "cell_type": "code",
   "execution_count": 97,
   "metadata": {
    "collapsed": false
   },
   "outputs": [],
   "source": [
    "def most_common(lst):\n",
    "        return max(set(lst), key=lst.count)\n",
    "\n",
    "estimate = []\n",
    "xml_mask = []\n",
    "\n",
    "for ID in ids_left :\n",
    "    proc = []\n",
    "    tree = ET.parse(os.path.join('train',ID))\n",
    "    for el in tree.iter() :\n",
    "        proc.append(el.tag)\n",
    "    u_length = len(proc)\n",
    "    \n",
    "    length_mask = [True if length == u_length else False for length in train_proc_lengths]\n",
    "    if np.sum(length_mask) > 7 :\n",
    "        dftouse = train_df[length_mask]\n",
    "        estimate.append(most_common(dftouse['class'].tolist()))\n",
    "        xml_mask.append(False)\n",
    "    else :\n",
    "        estimate.append(-1)\n",
    "        xml_mask.append(True)"
   ]
  },
  {
   "cell_type": "code",
   "execution_count": 98,
   "metadata": {
    "collapsed": true
   },
   "outputs": [],
   "source": [
    "merge_df = pd.DataFrame()\n",
    "merge_df['ids'] = ids_left\n",
    "merge_df['xml_match'] = estimate\n",
    "post_df = test_df.merge(merge_df, how='outer')\n",
    "\n",
    "def find_class(array) :\n",
    "    for el in array[2:] :\n",
    "        if type(el) != str and el != -1 :\n",
    "            return el\n",
    "    return -1\n",
    "\n",
    "post_df['pred'] = post_df.apply(find_class, axis=1)\n",
    "\n",
    "ids_left_2 = post_df[post_df['pred'] == -1].ids"
   ]
  },
  {
   "cell_type": "code",
   "execution_count": 99,
   "metadata": {
    "collapsed": true
   },
   "outputs": [],
   "source": [
    "def create_feats(direc, ids) :\n",
    "    X = None\n",
    "    for ID in ids :\n",
    "        tree = ET.parse(os.path.join(direc,ID))\n",
    "        this_row = call_feats(tree)\n",
    "        \n",
    "        if X is None:\n",
    "            X = this_row \n",
    "        else:\n",
    "            X = np.vstack((X, this_row))\n",
    "    return X\n",
    "        \n",
    "def add_to_set(tree):\n",
    "    for el in tree.iter():\n",
    "        call = el.tag\n",
    "        call_set.add(call)\n",
    "        \n",
    "def call_feats(tree):\n",
    "    calls = ['all_section', 'bind_socket', 'check_for_debugger',\n",
    "       'com_create_instance', 'com_get_class_object', 'connect',\n",
    "       'connect_socket', 'copy_file', 'create_directory', 'create_file',\n",
    "       'create_key', 'create_mutex', 'create_open_file', 'create_process',\n",
    "       'create_socket', 'create_thread', 'create_window', 'delete_file',\n",
    "       'delete_key', 'delete_value', 'destroy_window', 'dump_line',\n",
    "       'enum_keys', 'enum_processes', 'enum_values', 'enum_window',\n",
    "       'find_file', 'find_window', 'get_computer_name',\n",
    "       'get_file_attributes', 'get_host_by_name', 'get_system_directory',\n",
    "       'get_system_time', 'get_username', 'get_windows_directory',\n",
    "       'impersonate_user', 'kill_process', 'load_dll', 'load_image',\n",
    "       'open_file', 'open_key', 'open_mutex', 'open_process',\n",
    "       'open_scmanager', 'open_service', 'open_url', 'process',\n",
    "       'processes', 'query_value', 'read_section', 'read_value',\n",
    "       'recv_socket', 'remove_directory', 'send_socket',\n",
    "       'set_file_attributes', 'set_file_time', 'set_value',\n",
    "       'set_windows_hook', 'show_window', 'sleep', 'thread',\n",
    "       'trimmed_bytes', 'vm_protect', 'write_value']\n",
    "\n",
    "    call_counter = {}\n",
    "    for el in tree.iter():\n",
    "        call = el.tag\n",
    "        if call not in call_counter:\n",
    "            call_counter[call] = 0\n",
    "        else:\n",
    "            call_counter[call] += 1\n",
    "\n",
    "    call_feat_array = np.zeros(len(calls))\n",
    "    for i in range(len(calls)):\n",
    "        call = calls[i]\n",
    "        call_feat_array[i] = 0\n",
    "        if call in call_counter:\n",
    "            call_feat_array[i] = call_counter[call]\n",
    "\n",
    "    return call_feat_array"
   ]
  },
  {
   "cell_type": "code",
   "execution_count": 100,
   "metadata": {
    "collapsed": false
   },
   "outputs": [],
   "source": [
    "X_train = create_feats('train', train_df.ids)\n",
    "y_train = train_df['class']"
   ]
  },
  {
   "cell_type": "code",
   "execution_count": 101,
   "metadata": {
    "collapsed": false
   },
   "outputs": [],
   "source": [
    "X_test = create_feats('train', ids_left_2)"
   ]
  },
  {
   "cell_type": "code",
   "execution_count": 102,
   "metadata": {
    "collapsed": true
   },
   "outputs": [],
   "source": [
    "regression_df = pd.DataFrame()\n",
    "regression_df['ids'] = ids_left_2"
   ]
  },
  {
   "cell_type": "code",
   "execution_count": 103,
   "metadata": {
    "collapsed": false
   },
   "outputs": [],
   "source": [
    "from sklearn import linear_model\n",
    "LR = linear_model.LogisticRegression()\n",
    "LR.fit(X_train, y_train)\n",
    "regression_df['LogReg'] = LR.predict(X_test)"
   ]
  },
  {
   "cell_type": "code",
   "execution_count": 104,
   "metadata": {
    "collapsed": false
   },
   "outputs": [],
   "source": [
    "from sklearn import neighbors\n",
    "n_neighbors = 15\n",
    "\n",
    "clf = neighbors.KNeighborsClassifier(n_neighbors, weights='distance')\n",
    "clf.fit(X_train, y_train)\n",
    "regression_df['KNN'] = clf.predict(X_test)"
   ]
  },
  {
   "cell_type": "code",
   "execution_count": 105,
   "metadata": {
    "collapsed": true
   },
   "outputs": [],
   "source": [
    "from sklearn.ensemble import RandomForestClassifier\n",
    "\n",
    "clf = RandomForestClassifier(n_estimators=10)\n",
    "clf.fit(X_train, y_train)\n",
    "regression_df['RF'] = clf.predict(X_test)"
   ]
  },
  {
   "cell_type": "code",
   "execution_count": 106,
   "metadata": {
    "collapsed": false
   },
   "outputs": [],
   "source": [
    "def bestGuess(array) :\n",
    "    LR = array[1]\n",
    "    KNN = array[2]\n",
    "    RF = array[3]\n",
    "    return RF\n",
    "\n",
    "regression_df['bestGuess'] = regression_df.apply(bestGuess, 1)"
   ]
  },
  {
   "cell_type": "code",
   "execution_count": 107,
   "metadata": {
    "collapsed": false
   },
   "outputs": [],
   "source": [
    "final_df = post_df.merge(regression_df[['ids','bestGuess']], how=\"outer\")\n",
    "final_df['pred'] = final_df.apply(find_class, axis=1)"
   ]
  },
  {
   "cell_type": "code",
   "execution_count": 108,
   "metadata": {
    "collapsed": false
   },
   "outputs": [
    {
     "name": "stdout",
     "output_type": "stream",
     "text": [
      "0.869479882237\n"
     ]
    },
    {
     "data": {
      "image/png": "[encoded data removed]",
      "text/plain": [
       "<matplotlib.figure.Figure at 0x105f94610>"
      ]
     },
     "metadata": {},
     "output_type": "display_data"
    }
   ],
   "source": [
    "def rand_jitter(arr):\n",
    "    stdev = .01*(max(arr)-min(arr))\n",
    "    return arr + np.random.randn(len(arr)) * stdev\n",
    "\n",
    "def accuracy_score(arr1, arr2) :\n",
    "    arr1 = np.array(arr1)\n",
    "    arr2 = np.array(arr2)\n",
    "    \n",
    "    if arr1.shape == arr2.shape :\n",
    "        print len(np.where(arr1 == arr2)[0])/float(arr1.shape[0])\n",
    "    \n",
    "    plt.scatter(rand_jitter(arr1), rand_jitter(arr2), alpha=0.1);\n",
    "    plt.xlabel('Predictions');\n",
    "    plt.ylabel('True classification');\n",
    "    \n",
    "accuracy_score(final_df['pred'], final_df['class'])"
   ]
  },
  {
   "cell_type": "code",
   "execution_count": null,
   "metadata": {
    "collapsed": false
   },
   "outputs": [],
   "source": []
  },
  {
   "cell_type": "code",
   "execution_count": null,
   "metadata": {
    "collapsed": true
   },
   "outputs": [],
   "source": []
  }
 ],
 "metadata": {
  "kernelspec": {
   "display_name": "Python 2",
   "language": "python",
   "name": "python2"
  },
  "language_info": {
   "codemirror_mode": {
    "name": "ipython",
    "version": 2
   },
   "file_extension": ".py",
   "mimetype": "text/x-python",
   "name": "python",
   "nbconvert_exporter": "python",
   "pygments_lexer": "ipython2",
   "version": "2.7.10"
  }
 },
 "nbformat": 4,
 "nbformat_minor": 0
}
